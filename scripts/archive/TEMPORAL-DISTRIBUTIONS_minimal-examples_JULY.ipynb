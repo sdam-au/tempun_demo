{
 "cells": [
  {
   "cell_type": "markdown",
   "metadata": {
    "colab_type": "text",
    "id": "view-in-github"
   },
   "source": [
    "<a href=\"https://colab.research.google.com/github/sdam-au/modelling_temporal_uncertainty/blob/master/scripts/TEMPORAL-DISTRIBUTIONS_minimal-examples.ipynb\" target=\"_parent\"><img src=\"https://colab.research.google.com/assets/colab-badge.svg\" alt=\"Open In Colab\"/></a>"
   ]
  },
  {
   "cell_type": "markdown",
   "metadata": {
    "colab_type": "text",
    "id": "C2T2U0LaHNzK"
   },
   "source": [
    "# Requirements"
   ]
  },
  {
   "cell_type": "code",
   "execution_count": 2,
   "metadata": {
    "colab": {
     "base_uri": "https://localhost:8080/",
     "height": 71
    },
    "colab_type": "code",
    "id": "TAQ5j9-3DD9j",
    "outputId": "16e2dde1-5539-4d75-e5bf-41471506a585"
   },
   "outputs": [
    {
     "name": "stderr",
     "output_type": "stream",
     "text": [
      "/usr/local/lib/python3.6/dist-packages/statsmodels/tools/_testing.py:19: FutureWarning: pandas.util.testing is deprecated. Use the functions in the public API at pandas.testing instead.\n",
      "  import pandas.util.testing as tm\n"
     ]
    }
   ],
   "source": [
    "from scipy.stats import trapz\n",
    "import matplotlib.pyplot as plt\n",
    "import seaborn as sns\n",
    "import numpy as np\n",
    "import pandas as pd\n",
    "\n",
    "!pip install sddk\n",
    "import sddk"
   ]
  },
  {
   "cell_type": "code",
   "execution_count": null,
   "metadata": {
    "colab": {},
    "colab_type": "code",
    "id": "46Nom9dEPD-p"
   },
   "outputs": [],
   "source": [
    "conf = sddk.configure(\"SDAM_root\", \"648597@au.dk\")"
   ]
  },
  {
   "cell_type": "markdown",
   "metadata": {
    "colab_type": "text",
    "id": "BJhMiSohRmrt"
   },
   "source": [
    "# Modelling ranges\n",
    "\n",
    "## Trapezoidal distribution\n"
   ]
  },
  {
   "cell_type": "markdown",
   "metadata": {
    "colab_type": "text",
    "id": "uGGk6R_xCyj9"
   },
   "source": [
    "As a minimal example, let's assume that we have datation \"4th c. BC\".\n",
    "As a first step, we have to operationalize its start and stop points:"
   ]
  },
  {
   "cell_type": "code",
   "execution_count": 3,
   "metadata": {
    "colab": {},
    "colab_type": "code",
    "id": "1PsqsfVVCXRQ"
   },
   "outputs": [],
   "source": [
    "start = -400\n",
    "stop = -301"
   ]
  },
  {
   "cell_type": "markdown",
   "metadata": {
    "colab_type": "text",
    "id": "GGT7L1XlDXMA"
   },
   "source": [
    " Further,  I assume that the the probability that the object emerged in 385 BC, 350 BC or 320 BC is **approximately equal** . \n",
    "At the same time, it is **less likely** that the  object emerged in the first or last decade of the century, since this would be probably coded in another way (e.g. \"beginning of the 4th c. BC\" etc.).\n",
    "\n",
    "It seems that the best way how to model this is through a [trapezoidal distrubution](https://en.wikipedia.org/wiki/Trapezoidal_distribution).\n",
    "\n",
    "In Python, trapezoidal distribution is implemented in SciPy library as [scipy.stats.trapz](https://docs.scipy.org/doc/scipy/reference/generated/scipy.stats.trapz.html). \n"
   ]
  },
  {
   "cell_type": "markdown",
   "metadata": {
    "colab_type": "text",
    "id": "E4adVFBzPGsA"
   },
   "source": [
    "We will use this function as a core for our function optimized for working with date ranges"
   ]
  },
  {
   "cell_type": "code",
   "execution_count": 4,
   "metadata": {
    "colab": {},
    "colab_type": "code",
    "id": "wnj2hUeAFjjs"
   },
   "outputs": [],
   "source": [
    "def dist_range(start, stop, size=1, b=0.1): # this function has been implemented into already modelling_distributions.py\n",
    "  \"\"\"\n",
    "  get random numbers of size size ib on the basis of start date and end date and trapezoid distribution defined by first turn point (lower bound)\n",
    "  \"\"\"\n",
    "  r = trapz.rvs(b, 1-b, size=size)\n",
    "  duration = abs((start)-stop)\n",
    "  if duration == 0:\n",
    "    random_values = [start] * size\n",
    "    return random_values\n",
    "  else:\n",
    "    random_values = list(((r * duration) + start).round().astype(int))\n",
    "    if size == 1: # if only one number, return it as a number\n",
    "      return random_values[0]\n",
    "    else: # otherwise return a list of values\n",
    "      return random_values"
   ]
  },
  {
   "cell_type": "code",
   "execution_count": 5,
   "metadata": {
    "colab": {
     "base_uri": "https://localhost:8080/",
     "height": 54
    },
    "colab_type": "code",
    "id": "ZtsH0YV4j4ln",
    "outputId": "b7e3f8cc-59c7-42a3-ea3b-e072862d8d42"
   },
   "outputs": [
    {
     "name": "stdout",
     "output_type": "stream",
     "text": [
      "[-19, -20, -19, -19, -19, -19, -19, -18, -19, -20, -18, -18, -18, -18, -19, -20, -20, -19, -19, -18, -19, -19, -19, -18, -19, -19, -19, -18, -20, -20]\n"
     ]
    }
   ],
   "source": [
    "start = -20\n",
    "stop = -18\n",
    "print(dist_range(start, stop, 30))"
   ]
  },
  {
   "cell_type": "markdown",
   "metadata": {
    "colab_type": "text",
    "id": "Hss_-MdhPWPJ"
   },
   "source": [
    "If we specify only start and end, it returns only one random number within the range. By default, the two bending points are configured to 0.1 and 0.9  of the duration of the function."
   ]
  },
  {
   "cell_type": "code",
   "execution_count": 6,
   "metadata": {
    "colab": {
     "base_uri": "https://localhost:8080/",
     "height": 34
    },
    "colab_type": "code",
    "id": "35tMIsikLtKe",
    "outputId": "af9b8251-a86a-40fd-a008-f6bf5ae5ed79"
   },
   "outputs": [
    {
     "data": {
      "text/plain": [
       "-18"
      ]
     },
     "execution_count": 6,
     "metadata": {
      "tags": []
     },
     "output_type": "execute_result"
    }
   ],
   "source": [
    "# 1 random numbers within the range defined by start and stop\n",
    "# if we want more numbers, we can add a third argument specifying \"size\", i.e. how many numbers we want\n",
    "# by default, it follows trapezoidal distribution, with lineary decreasing probability for the first 10% and the last 10% years wihin the range\n",
    "# that means that any numbers after the first 10% and before the last 10% has equal probability to be returned\n",
    "dist_range(start, stop)"
   ]
  },
  {
   "cell_type": "markdown",
   "metadata": {
    "colab_type": "text",
    "id": "2PHEdeifQaqa"
   },
   "source": [
    "This way we can produce a large amount of numbers for each date range in our dataset"
   ]
  },
  {
   "cell_type": "code",
   "execution_count": 16,
   "metadata": {
    "colab": {},
    "colab_type": "code",
    "id": "weP-PnAnLcJ5"
   },
   "outputs": [],
   "source": [
    "raw_date = \"4th c. BC\"\n",
    "start = -400\n",
    "stop = -301\n",
    "n_of_iterations = 100000\n",
    "iters = dist_range(start, stop, n_of_iterations)"
   ]
  },
  {
   "cell_type": "markdown",
   "metadata": {
    "colab_type": "text",
    "id": "tZEDqQ24RAYb"
   },
   "source": [
    "For one date range, the resulting distrubution might be visualized by means of a histogram:"
   ]
  },
  {
   "cell_type": "code",
   "execution_count": 18,
   "metadata": {
    "colab": {
     "base_uri": "https://localhost:8080/",
     "height": 282
    },
    "colab_type": "code",
    "id": "cBEbOMruKVqW",
    "outputId": "7197b4c6-719d-467e-8a55-3dc8f7c83b2f"
   },
   "outputs": [
    {
     "data": {
      "text/plain": [
       "(-400.0, -301.0)"
      ]
     },
     "execution_count": 18,
     "metadata": {
      "tags": []
     },
     "output_type": "execute_result"
    },
    {
     "data": {
      "image/png": "[encoded data removed]",
      "text/plain": [
       "<Figure size 432x288 with 1 Axes>"
      ]
     },
     "metadata": {
      "needs_background": "light",
      "tags": []
     },
     "output_type": "display_data"
    }
   ],
   "source": [
    "sns.distplot(iters, bins=20)\n",
    "plt.xlim(start, stop)"
   ]
  },
  {
   "cell_type": "markdown",
   "metadata": {
    "colab_type": "text",
    "id": "r05hBrYISDwe"
   },
   "source": [
    "# Modelling ante quem & post quem\n",
    "\n",
    "A very common way of dating in our dataset is using **ante quem** (before that date) and **post quem** (after that date).\n",
    "\n",
    "Again, here we have to ask about the shape of the distribution we want to model.\n",
    "\n",
    "## a) Trapezoidal\n",
    "One option is to approach it the same way as ranges, as a combination of uniform and triangular distribution. We can use our code for trapezoidal distrubution and just set up *a* = *b*, i.e. that the lower bound equals to the first bending point.  "
   ]
  },
  {
   "cell_type": "code",
   "execution_count": 8,
   "metadata": {
    "colab": {},
    "colab_type": "code",
    "id": "U_WmLRHKSLzA"
   },
   "outputs": [],
   "source": [
    "def dist_ante_post(date, date_type, size=1, duration=100):\n",
    "  \"\"\"\n",
    "  get random numbers of size size ib on the basis of start date and end date and trapezoid distribution defined by first turn point (lower bound)\n",
    "  \"\"\"\n",
    "  if \"post\" in date_type:\n",
    "    r = trapz.rvs(0, 0.50, size=size)\n",
    "    return ((r * duration) + date).astype(int)\n",
    "  if \"ante\" in date_type:\n",
    "    r = trapz.rvs(0.50, 1, size=size)\n",
    "    return ((r * duration) + date).astype(int)"
   ]
  },
  {
   "cell_type": "markdown",
   "metadata": {
    "colab_type": "text",
    "id": "K6ia-4GHqKWd"
   },
   "source": [
    "Test with \"post 250 AD\""
   ]
  },
  {
   "cell_type": "code",
   "execution_count": 10,
   "metadata": {
    "colab": {
     "base_uri": "https://localhost:8080/",
     "height": 34
    },
    "colab_type": "code",
    "id": "w1_6rOf_o_jg",
    "outputId": "b7521ba0-9ae1-4ac2-9aa1-526c6112a591"
   },
   "outputs": [
    {
     "data": {
      "text/plain": [
       "array([256])"
      ]
     },
     "execution_count": 10,
     "metadata": {
      "tags": []
     },
     "output_type": "execute_result"
    }
   ],
   "source": [
    "dist_ante_post(250, \"post\")"
   ]
  },
  {
   "cell_type": "code",
   "execution_count": 11,
   "metadata": {
    "colab": {},
    "colab_type": "code",
    "id": "xuPsMFFqokgP"
   },
   "outputs": [],
   "source": [
    "iters = dist_ante_post(250, \"post\", 5000)"
   ]
  },
  {
   "cell_type": "code",
   "execution_count": 12,
   "metadata": {
    "colab": {
     "base_uri": "https://localhost:8080/",
     "height": 282
    },
    "colab_type": "code",
    "id": "qKTVonaeqCP5",
    "outputId": "2a2d9088-d9c1-42bd-a536-f244a01226cc"
   },
   "outputs": [
    {
     "data": {
      "text/plain": [
       "(250.0, 350.0)"
      ]
     },
     "execution_count": 12,
     "metadata": {
      "tags": []
     },
     "output_type": "execute_result"
    },
    {
     "data": {
      "image/png": "[encoded data removed]",
      "text/plain": [
       "<Figure size 432x288 with 1 Axes>"
      ]
     },
     "metadata": {
      "needs_background": "light",
      "tags": []
     },
     "output_type": "display_data"
    }
   ],
   "source": [
    "sns.distplot(iters, kde=False) # alternatively: hist=False\n",
    "plt.xlim(250, 350)"
   ]
  },
  {
   "cell_type": "markdown",
   "metadata": {
    "colab_type": "text",
    "id": "6ZxUbIL2p-UR"
   },
   "source": [
    "## b) Half-normal distribution\n",
    "\n",
    "Perhaps a better model would be a normal distribution with rather long tail\n",
    "\n"
   ]
  },
  {
   "cell_type": "code",
   "execution_count": 55,
   "metadata": {
    "colab": {},
    "colab_type": "code",
    "id": "LvKxDrNvpeRR"
   },
   "outputs": [],
   "source": [
    "from scipy.stats import halfnorm"
   ]
  },
  {
   "cell_type": "markdown",
   "metadata": {
    "colab_type": "text",
    "id": "rcI4-Ayxtev2"
   },
   "source": [
    "Here we can especially play with the `scale` parameter.\n",
    "\n"
   ]
  },
  {
   "cell_type": "code",
   "execution_count": 14,
   "metadata": {
    "colab": {
     "base_uri": "https://localhost:8080/",
     "height": 265
    },
    "colab_type": "code",
    "id": "rXs7zvuSrVVt",
    "outputId": "44fcbc51-b098-456a-b45a-76d6cbbba869"
   },
   "outputs": [
    {
     "data": {
      "image/png": "[encoded data removed]",
      "text/plain": [
       "<Figure size 432x288 with 1 Axes>"
      ]
     },
     "metadata": {
      "needs_background": "light",
      "tags": []
     },
     "output_type": "display_data"
    }
   ],
   "source": [
    "for scale in [20, 50, 100]:\n",
    "  r = halfnorm.rvs(250, scale, 50000)\n",
    "  sns.distplot(r, kde=False)\n",
    "  plt.xlim(250, 450)"
   ]
  },
  {
   "cell_type": "markdown",
   "metadata": {
    "colab_type": "text",
    "id": "XpAQjTnFt1B9"
   },
   "source": [
    "`scale`=50 appears to be very useful for applications where centuries are common, like PHI or EDH. So let's implement it to our model as default value."
   ]
  },
  {
   "cell_type": "code",
   "execution_count": 53,
   "metadata": {
    "colab": {},
    "colab_type": "code",
    "id": "qh6xIrpprEz0"
   },
   "outputs": [],
   "source": [
    "def dist_ante_post(date, date_type, size=1, scale=50): # this function has been implemented into already modelling_distributions.py\n",
    "  \"\"\"\n",
    "  get random numbers of size size ib on the basis of start date and end date and half-normal distribution defined by first turn point (lower bound)\n",
    "  start & stop are treated as not before and not after, i.e. as included\n",
    "  \"\"\"\n",
    "  if \"post\" in date_type:\n",
    "    r = np.round(halfnorm.rvs(scale=scale, size=size)).astype(int)\n",
    "    random_values = list((date - 1) + r)\n",
    "  if \"ante\" in date_type:\n",
    "    r = np.round(halfnorm.rvs(scale=scale, size=size)).astype(int)\n",
    "    random_values =  list((date + 1) - r)\n",
    "  if size == 1:\n",
    "    return random_values[0]\n",
    "  else:\n",
    "    return random_values"
   ]
  },
  {
   "cell_type": "code",
   "execution_count": 56,
   "metadata": {
    "colab": {
     "base_uri": "https://localhost:8080/",
     "height": 34
    },
    "colab_type": "code",
    "id": "WAV1tw11Iv-Q",
    "outputId": "76cb354f-d298-490f-c6f2-4ac4a2ebca95"
   },
   "outputs": [
    {
     "data": {
      "text/plain": [
       "[104, 99, 110, 100, 119, 99, 105, 103, 107, 99]"
      ]
     },
     "execution_count": 56,
     "metadata": {
      "tags": []
     },
     "output_type": "execute_result"
    }
   ],
   "source": [
    "dist_ante_post(100, \"post\", size=10, scale=10)"
   ]
  },
  {
   "cell_type": "code",
   "execution_count": 138,
   "metadata": {
    "colab": {
     "base_uri": "https://localhost:8080/",
     "height": 34
    },
    "colab_type": "code",
    "id": "xgKIQiY8wux1",
    "outputId": "0a01e542-efe6-4f4b-c335-53be49e75d43"
   },
   "outputs": [
    {
     "data": {
      "text/plain": [
       "[252, 251, 257, 250, 257, 250, 250, 253, 258, 255]"
      ]
     },
     "execution_count": 138,
     "metadata": {
      "tags": []
     },
     "output_type": "execute_result"
    }
   ],
   "source": [
    "# simple test with \"post\"\n",
    "dist_ante_post(250, \"post\", size=10, scale=5)"
   ]
  },
  {
   "cell_type": "code",
   "execution_count": 131,
   "metadata": {
    "colab": {
     "base_uri": "https://localhost:8080/",
     "height": 34
    },
    "colab_type": "code",
    "id": "ITyCddkJw3yZ",
    "outputId": "4899feee-6249-4367-8b6f-2543d00ce2eb"
   },
   "outputs": [
    {
     "data": {
      "text/plain": [
       "[192, 214, 232, 227, 244, 225, 182, 227, 154, 220]"
      ]
     },
     "execution_count": 131,
     "metadata": {
      "tags": []
     },
     "output_type": "execute_result"
    }
   ],
   "source": [
    "# simple test with \"ante\"\n",
    "dist_ante_post(250, \"ante\", 10, 50)"
   ]
  },
  {
   "cell_type": "markdown",
   "metadata": {
    "colab_type": "text",
    "id": "1lEnQvWMxcco"
   },
   "source": [
    "What exactly does the scale parameter?"
   ]
  },
  {
   "cell_type": "code",
   "execution_count": 57,
   "metadata": {
    "colab": {
     "base_uri": "https://localhost:8080/",
     "height": 88
    },
    "colab_type": "code",
    "id": "VW-8jjgW_s9Y",
    "outputId": "007a3449-8650-43e4-ee4d-51ffe961888e"
   },
   "outputs": [
    {
     "name": "stdout",
     "output_type": "stream",
     "text": [
      "scale: 50\n",
      "[0.6835, 0.6836, 0.6848, 0.6892, 0.6873, 0.6877, 0.6911, 0.687, 0.685, 0.6816, 0.691, 0.6922, 0.6853, 0.683, 0.6937, 0.6867, 0.701, 0.6876, 0.6881, 0.6908, 0.6826, 0.6863, 0.6846, 0.6873, 0.6953, 0.6841, 0.6841, 0.6807, 0.6838, 0.6859, 0.69, 0.6872, 0.693, 0.6873, 0.6923, 0.6899, 0.6877, 0.6905, 0.6895, 0.6928, 0.6778, 0.6831, 0.6794, 0.686, 0.6832, 0.6897, 0.6955, 0.6828, 0.6848, 0.6789, 0.6899, 0.6792, 0.6838, 0.693, 0.6796, 0.6871, 0.6894, 0.6944, 0.6948, 0.6863, 0.6811, 0.687, 0.6822, 0.6875, 0.6844, 0.6827, 0.6884, 0.6881, 0.6926, 0.6804, 0.687, 0.6852, 0.6845, 0.6906, 0.6878, 0.6914, 0.6886, 0.6789, 0.6854, 0.7002, 0.6935, 0.6936, 0.6868, 0.6899, 0.6948, 0.6984, 0.6883, 0.6861, 0.69, 0.6896, 0.6866, 0.6833, 0.693, 0.6874, 0.6867, 0.6781, 0.6865, 0.6884, 0.6937, 0.6951, 0.6871, 0.6957, 0.6895, 0.6915, 0.6861, 0.6879, 0.6833, 0.6896, 0.6797, 0.6799, 0.6842, 0.6804, 0.682, 0.6905, 0.6906, 0.6799, 0.6833, 0.6879, 0.6876, 0.6833, 0.6884, 0.693, 0.6921, 0.6884, 0.6853, 0.6878, 0.6882, 0.6857, 0.6815, 0.6948, 0.6909, 0.6903, 0.6903, 0.6901, 0.6923, 0.6868, 0.6857, 0.6855, 0.6982, 0.6922, 0.6897, 0.6887, 0.6882, 0.6835, 0.6833, 0.6808, 0.6895, 0.6968, 0.683, 0.6882, 0.6847, 0.6944, 0.6925, 0.6889, 0.6882, 0.6946, 0.6842, 0.6825, 0.6854, 0.6858, 0.6847, 0.6853, 0.6915, 0.6887, 0.6909, 0.6887, 0.6849, 0.6862, 0.6833, 0.6895, 0.6844, 0.6802, 0.6884, 0.688, 0.6784, 0.6917, 0.6844, 0.6888, 0.6971, 0.6877, 0.695, 0.6853, 0.6882, 0.6897, 0.689, 0.6816, 0.6947, 0.6863, 0.6805, 0.6938, 0.6775, 0.6869, 0.6909, 0.6846, 0.6842, 0.6814, 0.6916, 0.6837, 0.6966, 0.6852, 0.6839, 0.6885, 0.6804, 0.6818, 0.6949, 0.6828, 0.6876, 0.6912, 0.6912, 0.6825, 0.6934, 0.6896, 0.6907, 0.6868, 0.6894, 0.6853, 0.695, 0.6822, 0.688, 0.6867, 0.6903, 0.6894, 0.6917, 0.6908, 0.6883, 0.6821, 0.6912, 0.688, 0.6881, 0.6825, 0.6912, 0.6838, 0.6863, 0.6885, 0.693, 0.6922, 0.693, 0.6864, 0.6901, 0.6842, 0.689, 0.6895, 0.6918, 0.6941, 0.695, 0.6899, 0.6983, 0.6918, 0.6767, 0.6884, 0.692, 0.6896, 0.686, 0.6877, 0.6904, 0.6957, 0.6903, 0.6872, 0.6788, 0.6877, 0.6894, 0.6871, 0.6965, 0.6902, 0.6868, 0.6899, 0.6831, 0.6887, 0.6907, 0.6865, 0.6937, 0.6877, 0.6844, 0.6877, 0.6833, 0.6941, 0.6785, 0.6902, 0.6929, 0.6883, 0.6902, 0.6898, 0.687, 0.6847, 0.689, 0.6759, 0.6786, 0.6901, 0.6869, 0.6814, 0.6899, 0.69, 0.6899, 0.6885, 0.6912, 0.6812, 0.6744, 0.6861, 0.6864, 0.6789, 0.6842, 0.6864, 0.69, 0.6906, 0.6957, 0.6849, 0.6832, 0.6943, 0.6881, 0.6861, 0.6948, 0.6903, 0.6901, 0.6877, 0.6843, 0.6904, 0.687, 0.697, 0.6791, 0.6955, 0.6823, 0.6856, 0.6854, 0.6936, 0.697, 0.6903, 0.6888, 0.6936, 0.6879, 0.6846, 0.6865, 0.6832, 0.69, 0.6845, 0.6904, 0.6951, 0.6851, 0.6846, 0.6903, 0.6901, 0.6945, 0.6949, 0.6802, 0.693, 0.6876, 0.6906, 0.6878, 0.6893, 0.6846, 0.686, 0.6813, 0.6905, 0.6885, 0.6807, 0.6921, 0.6795, 0.6949, 0.6849, 0.6895, 0.6887, 0.6853, 0.688, 0.6839, 0.6909, 0.6778, 0.6821, 0.6915, 0.6952, 0.6836, 0.6812, 0.6869, 0.6883, 0.6882, 0.6941, 0.6837, 0.6831, 0.6876, 0.6805, 0.6826, 0.6887, 0.6816, 0.6881, 0.6873, 0.6913, 0.6932, 0.6856, 0.6937, 0.6899, 0.6857, 0.6828, 0.6766, 0.6866, 0.6853, 0.6784, 0.695, 0.6876, 0.6893, 0.6788, 0.6911, 0.6802, 0.6943, 0.6907, 0.6955, 0.6889, 0.687, 0.6901, 0.6978, 0.693, 0.6908, 0.6881, 0.6868, 0.6813, 0.6882, 0.6863, 0.6841, 0.6822, 0.6847, 0.6863, 0.6887, 0.6835, 0.687, 0.6814, 0.6883, 0.688, 0.6863, 0.691, 0.6848, 0.6889, 0.6942, 0.6833, 0.6883, 0.6899, 0.6822, 0.6887, 0.6877, 0.6856, 0.6915, 0.69, 0.6881, 0.6935, 0.6922, 0.6804, 0.6923, 0.6878, 0.6881, 0.676, 0.6801, 0.6906, 0.6915, 0.6905, 0.6961, 0.6855, 0.687, 0.6896, 0.6905, 0.6882, 0.684, 0.6905, 0.6859, 0.688, 0.6868, 0.6917, 0.6801, 0.6825, 0.688, 0.6843, 0.6913, 0.6894, 0.6849, 0.683, 0.6882, 0.6901, 0.6846, 0.6817, 0.6901, 0.6882, 0.68, 0.6871, 0.6799, 0.681, 0.689, 0.6869, 0.6866, 0.6902, 0.6885, 0.6881, 0.6925, 0.6831, 0.6942, 0.683, 0.6921, 0.6805, 0.6851, 0.6853, 0.6834, 0.6889, 0.6866, 0.6843, 0.6885, 0.6905, 0.6874, 0.6873, 0.6868, 0.6856, 0.6872, 0.6834, 0.6893, 0.6876, 0.6893, 0.684, 0.6926, 0.6859, 0.6891, 0.6914, 0.6891, 0.6906, 0.6908, 0.6866, 0.6861, 0.6845, 0.6892, 0.6834, 0.6886, 0.6911, 0.6858, 0.6896, 0.6869, 0.6871, 0.684, 0.6818, 0.69, 0.6879, 0.6889, 0.6925, 0.6933, 0.6842, 0.6896, 0.6953, 0.6865, 0.6918, 0.6842, 0.6827, 0.6876, 0.6901, 0.6896, 0.6886, 0.6797, 0.6896, 0.694, 0.6878, 0.6823, 0.6883, 0.6951, 0.6798, 0.6896, 0.6893, 0.6795, 0.6852, 0.6875, 0.6836, 0.6895, 0.6852, 0.6883, 0.6819, 0.6959, 0.6804, 0.6856, 0.6954, 0.6916, 0.6857, 0.683, 0.6895, 0.6878, 0.6867, 0.6902, 0.6945, 0.6898, 0.6867, 0.6892, 0.6805, 0.6879, 0.6881, 0.6876, 0.6904, 0.6898, 0.6855, 0.6824, 0.6924, 0.6829, 0.6978, 0.6884, 0.6906, 0.692, 0.6847, 0.6819, 0.6887, 0.6963, 0.6912, 0.6869, 0.6956, 0.6899, 0.6812, 0.6771, 0.6944, 0.6871, 0.6811, 0.6851, 0.6913, 0.6902, 0.6827, 0.6932, 0.6838, 0.6878, 0.6891, 0.6804, 0.6864, 0.6757, 0.688, 0.6915, 0.6862, 0.692, 0.6876, 0.6941, 0.6832, 0.6942, 0.6872, 0.6867, 0.6886, 0.6863, 0.6923, 0.6842, 0.6809, 0.6855, 0.6905, 0.688, 0.6816, 0.6922, 0.6859, 0.684, 0.6957, 0.6841, 0.6865, 0.6936, 0.6853, 0.6891, 0.6787, 0.687, 0.6921, 0.6931, 0.69, 0.6898, 0.678, 0.6804, 0.6963, 0.6896, 0.6952, 0.6874, 0.687, 0.6882, 0.6838, 0.6944, 0.6817, 0.6965, 0.6869, 0.6878, 0.6917, 0.6872, 0.6844, 0.6888, 0.6923, 0.6891, 0.6921, 0.6853, 0.6932, 0.6905, 0.6772, 0.6904, 0.687, 0.6906, 0.6934, 0.684, 0.6819, 0.6893, 0.6825, 0.6936, 0.6889, 0.6872, 0.6848, 0.6941, 0.6843, 0.6916, 0.6868, 0.6879, 0.6824, 0.6905, 0.6856, 0.6973, 0.6881, 0.6856, 0.6934, 0.6841, 0.6886, 0.6854, 0.6807, 0.6863, 0.6902, 0.6859, 0.6737, 0.687, 0.6826, 0.6894, 0.69, 0.6804, 0.6928, 0.6861, 0.6898, 0.6866, 0.6798, 0.6834, 0.6892, 0.6852, 0.6861, 0.6981, 0.6904, 0.687, 0.6804, 0.6831, 0.6869, 0.6874, 0.6816, 0.7012, 0.6898, 0.6871, 0.6858, 0.6826, 0.69, 0.6912, 0.6772, 0.6883, 0.6935, 0.6877, 0.6827, 0.6866, 0.6823, 0.6842, 0.6905, 0.6845, 0.688, 0.6857, 0.6864, 0.6886, 0.673, 0.6886, 0.6864, 0.6872, 0.6894, 0.6932, 0.6795, 0.6851, 0.6865, 0.6916, 0.6874, 0.683, 0.688, 0.679, 0.6917, 0.6912, 0.688, 0.6905, 0.6932, 0.6892, 0.6864, 0.6955, 0.6922, 0.6829, 0.6847, 0.6865, 0.6863, 0.6819, 0.6963, 0.6855, 0.6853, 0.6906, 0.6831, 0.6864, 0.6869, 0.6856, 0.6899, 0.6846, 0.6795, 0.6939, 0.6873, 0.6999, 0.6807, 0.6939, 0.6906, 0.6897, 0.6926, 0.6942, 0.6838, 0.6897, 0.6837, 0.6858, 0.6879, 0.6929, 0.684, 0.6932, 0.6947, 0.6907, 0.69, 0.6884, 0.693, 0.6877, 0.6901, 0.6841, 0.6805, 0.682, 0.6918, 0.6866, 0.6944, 0.6869, 0.691, 0.6907, 0.6937, 0.6838, 0.6905, 0.6908, 0.6877, 0.6876, 0.6894, 0.6808, 0.6897, 0.6816, 0.6839, 0.6957, 0.6841, 0.6812, 0.6874, 0.6913, 0.6937, 0.6945, 0.6856, 0.6832, 0.685, 0.6894, 0.6974, 0.688, 0.6876, 0.6906, 0.6892, 0.684, 0.6908, 0.6845, 0.6851, 0.6821, 0.6945, 0.6865, 0.6901, 0.6881, 0.6898, 0.6857, 0.6905, 0.6864, 0.6919, 0.6898, 0.6871, 0.6945, 0.6921, 0.6791, 0.6908, 0.6824, 0.6836, 0.6759, 0.6903, 0.6884, 0.6898, 0.6886, 0.6856, 0.6889, 0.6883, 0.6798, 0.6883, 0.6844, 0.6843, 0.6859, 0.684, 0.6908, 0.6805, 0.6988, 0.6809, 0.6831, 0.6859, 0.7002, 0.6831, 0.6934, 0.6899, 0.6874, 0.6798, 0.6897, 0.6848, 0.6869, 0.6891, 0.6788, 0.6851, 0.694, 0.6899, 0.6926, 0.6835, 0.695, 0.6936, 0.6802, 0.6846, 0.7004, 0.6938, 0.6933, 0.6809, 0.6882, 0.6886, 0.6792, 0.6882, 0.6872, 0.6921, 0.6764, 0.6806, 0.684, 0.6878, 0.6804, 0.6875, 0.6851, 0.6916, 0.6859, 0.6964, 0.6857, 0.68, 0.6872, 0.6888, 0.6858, 0.6778, 0.6838, 0.6898, 0.6818, 0.6837, 0.6898, 0.6846, 0.6963, 0.686, 0.6891, 0.6835, 0.692, 0.6866, 0.6862, 0.6942, 0.6861, 0.6893, 0.6911, 0.687, 0.6935, 0.6891, 0.6853, 0.6856, 0.6853, 0.6808, 0.6948, 0.685, 0.6879, 0.6875, 0.6905, 0.6857, 0.6847, 0.6925, 0.679, 0.683, 0.6944, 0.6885, 0.6818, 0.694, 0.6873, 0.6894, 0.6869, 0.6889, 0.6902, 0.6947, 0.6896, 0.6891, 0.6891, 0.6887, 0.6847, 0.6838, 0.6874, 0.691, 0.6821, 0.6883, 0.6869, 0.6946, 0.6842, 0.6894, 0.6836, 0.6905, 0.6896, 0.6902]\n",
      "0.6876243999999999\n"
     ]
    }
   ],
   "source": [
    "results = []\n",
    "scale = int(input(\"scale: \"))\n",
    "for n in range(1000):\n",
    "  r = np.array(dist_ante_post(0, \"post\", 10000, scale))\n",
    "  results.append(len(r[r < scale]) / 10000)\n",
    "print(results)\n",
    "print(np.mean(results))"
   ]
  },
  {
   "cell_type": "code",
   "execution_count": null,
   "metadata": {
    "colab": {
     "base_uri": "https://localhost:8080/",
     "height": 34
    },
    "colab_type": "code",
    "id": "mWuvdtS2D9yw",
    "outputId": "b6049280-b08e-4a24-d57a-14f14bff155e"
   },
   "outputs": [
    {
     "data": {
      "text/plain": [
       "0.2891567"
      ]
     },
     "execution_count": 55,
     "metadata": {
      "tags": []
     },
     "output_type": "execute_result"
    }
   ],
   "source": [
    "np.mean(results)"
   ]
  },
  {
   "cell_type": "markdown",
   "metadata": {
    "colab_type": "text",
    "id": "OiDeYuKDQxs2"
   },
   "source": [
    "# function \"model_date()\""
   ]
  },
  {
   "cell_type": "code",
   "execution_count": 21,
   "metadata": {
    "colab": {},
    "colab_type": "code",
    "id": "NM3zO1ajRXDj"
   },
   "outputs": [],
   "source": [
    "def model_date(start, stop, size=1, scale=50, b=0.1):\n",
    "    \"\"\"\n",
    "    combine dist_range() and dist_ante_post()\n",
    "    \"\"\"\n",
    "    try:\n",
    "      randoms = dist_range(int(start), int(stop), size=size, b=b)\n",
    "    except:\n",
    "      try:\n",
    "        randoms =  dist_ante_post(int(start), \"post\", size=size, scale=scale)\n",
    "      except:\n",
    "        try:\n",
    "          randoms =  dist_ante_post(int(stop), \"ante\", size=size, scale=scale)\n",
    "        except:\n",
    "          randoms = None\n",
    "    return randoms\n"
   ]
  },
  {
   "cell_type": "code",
   "execution_count": 151,
   "metadata": {
    "colab": {
     "base_uri": "https://localhost:8080/",
     "height": 34
    },
    "colab_type": "code",
    "id": "0BgZmYUGOjX-",
    "outputId": "61ab2133-e2b9-44f6-8c6a-12f863795a12"
   },
   "outputs": [
    {
     "name": "stdout",
     "output_type": "stream",
     "text": [
      "[-392, -399, -393, -398, -397, -395, -395, -391, -400, -394, -393, -401, -392, -400, -399, -396, -399, -394, -394, -395]\n"
     ]
    }
   ],
   "source": [
    "# example: \n",
    "# both dates valid\n",
    "start = -400 - 1\n",
    "stop = -390\n",
    "print(model_date(start, stop, size=20, b=0))"
   ]
  },
  {
   "cell_type": "code",
   "execution_count": 152,
   "metadata": {
    "colab": {
     "base_uri": "https://localhost:8080/",
     "height": 34
    },
    "colab_type": "code",
    "id": "SYrt0R8FOroB",
    "outputId": "fc9c4c6d-c146-4d44-8613-1165a33b7cbb"
   },
   "outputs": [
    {
     "name": "stdout",
     "output_type": "stream",
     "text": [
      "[-295, -375, -394, -385, -365, -328, -377, -283, -341, -370, -366, -355, -312, -381, -360, -332, -383, -358, -380, -381]\n"
     ]
    }
   ],
   "source": [
    "# example: \n",
    "# both dates valid\n",
    "# modified bounding_box_b to uniform distr\n",
    "start = -400\n",
    "stop = None\n",
    "print(model_date(start, stop, size=20))"
   ]
  },
  {
   "cell_type": "code",
   "execution_count": 52,
   "metadata": {
    "colab": {
     "base_uri": "https://localhost:8080/",
     "height": 34
    },
    "colab_type": "code",
    "id": "5h_KUL14JZA0",
    "outputId": "242cf0df-a6b8-4eb6-f42d-a30827e5d348"
   },
   "outputs": [
    {
     "name": "stdout",
     "output_type": "stream",
     "text": [
      "None\n"
     ]
    }
   ],
   "source": [
    "# example: \n",
    "# invalid start interpreted as ante stop\n",
    "start = \"something nonnumerical\"\n",
    "stop = 72\n",
    "print(model_date(start, stop, size=20))"
   ]
  },
  {
   "cell_type": "markdown",
   "metadata": {
    "colab_type": "text",
    "id": "LlDGecK-m55d"
   },
   "source": [
    "# Distribution shapes overview"
   ]
  },
  {
   "cell_type": "code",
   "execution_count": 185,
   "metadata": {
    "colab": {
     "base_uri": "https://localhost:8080/",
     "height": 602
    },
    "colab_type": "code",
    "id": "atfd9ZhS1b8K",
    "outputId": "d56885a4-7cba-4a69-8533-d78c013c39f9"
   },
   "outputs": [
    {
     "data": {
      "text/plain": [
       "Text(0.5, 1.0, '(d) Half-normal distribution')"
      ]
     },
     "execution_count": 185,
     "metadata": {
      "tags": []
     },
     "output_type": "execute_result"
    },
    {
     "data": {
      "image/png": "[encoded data removed]",
      "text/plain": [
       "<Figure size 864x576 with 4 Axes>"
      ]
     },
     "metadata": {
      "needs_background": "light",
      "tags": []
     },
     "output_type": "display_data"
    }
   ],
   "source": [
    "fig, [[ax0, ax1], [ax2, ax3]] = plt.subplots(2, 2, figsize=(12, 8), tight_layout=True)\n",
    "\n",
    "# NORMAL DISTRIBUTION\n",
    "r = norm.rvs(-350, 14, 10000)\n",
    "sns.distplot(r, fit=norm, hist=False, kde=False, ax=ax0)\n",
    "ax0.set_xlim(-410, -290)\n",
    "ax0.set_ylim(0, 0.03)\n",
    "ax0.set_title(\"(a) Normal distribution\")\n",
    "\n",
    "\n",
    "# UNIFORM DISTRIBUTION\n",
    "ax1.plot([-400, -400, -301, -301], [0, 0.01, 0.01, 0], color=\"black\")\n",
    "ax1.set_xlim(-410, -290)\n",
    "ax1.set_ylim(0, 0.018)\n",
    "ax1.set_yticks([0, 0.005, 0.01, 0.015])\n",
    "ax1.set_title(\"(b) Uniform distribution\")\n",
    "\n",
    "# TRAPEZOIDAL DISTRIBUTION\n",
    "ax2.plot([-400, -390, -311, -301], [0, 0.011, 0.011, 0], color=\"black\")\n",
    "ax2.set_xlim(-410, -290)\n",
    "ax2.set_ylim(0, 0.018)\n",
    "ax2.set_yticks([0, 0.005, 0.01, 0.015])\n",
    "ax2.axvline(-390, 0, 0.615,linestyle=\"--\", color=\"grey\")\n",
    "ax2.axvline(-311, 0, 0.615,linestyle=\"--\", color=\"grey\")\n",
    "ax2.text(-403, 0, \"a\", color=\"grey\") \n",
    "ax2.text(-392, 0.0114, \"b\", color=\"grey\") \n",
    "ax2.text(-312, 0.0114, \"c\", color=\"grey\") \n",
    "ax2.text(-300, 0, \"d\", color=\"grey\") \n",
    "\n",
    "\n",
    "ax2.set_title(\"(c) Trapezoidal distribution\")\n",
    "\n",
    "# HALFNORMAL DISTRIBUTION\n",
    "r = model_date(-400, \"\", 100000)\n",
    "sns.distplot(r, fit=halfnorm, hist=False, kde=False, ax=ax3)\n",
    "ax3.set_xlim(-410, -201)\n",
    "ax3.set_ylim(0, 0.018)\n",
    "ax3.set_yticks([0, 0.005, 0.01, 0.015])\n",
    "ax3.set_xticks([-400, -350, -300, -250])\n",
    "ax3.axvline(-350, 0, 0.53,linestyle=\"--\", color=\"grey\")\n",
    "ax3.text(-350, 0.01, \"scale\", color=\"grey\") #, transform=trans)\n",
    "ax3.set_title(\"(d) Half-normal distribution\")\n"
   ]
  },
  {
   "cell_type": "code",
   "execution_count": 181,
   "metadata": {
    "colab": {
     "base_uri": "https://localhost:8080/",
     "height": 85
    },
    "colab_type": "code",
    "id": "vBNXCFF5FdDg",
    "outputId": "bf37281e-358a-4a6e-b5b3-7051fed7d6ea"
   },
   "outputs": [
    {
     "name": "stdout",
     "output_type": "stream",
     "text": [
      "sciencedata.dk username (format '123456@au.dk'): 648597@au.dk\n",
      "sciencedata.dk password: ··········\n",
      "connection with shared folder established with you as its owner\n",
      "endpoint variable has been configured to: https://sciencedata.dk/files/SDAM_root/\n"
     ]
    }
   ],
   "source": [
    "conf = sddk.configure(\"SDAM_root\", \"648597@au.dk\")"
   ]
  },
  {
   "cell_type": "code",
   "execution_count": 186,
   "metadata": {
    "colab": {
     "base_uri": "https://localhost:8080/",
     "height": 88
    },
    "colab_type": "code",
    "id": "keRf1fvPEleN",
    "outputId": "8258ff88-5c3b-4a5c-8333-80be467ab070"
   },
   "outputs": [
    {
     "name": "stdout",
     "output_type": "stream",
     "text": [
      "A file with the same name (\"distributions_overview.png\") already exists in this location.\n",
      "Press Enter to overwrite it or choose different path and filename: \n",
      "Your <class 'matplotlib.figure.Figure'> object has been succefully written as \"https://sciencedata.dk/files/SDAM_root/SDAM_data/temporal_uncertainty/distributions_overview.png\"\n"
     ]
    }
   ],
   "source": [
    "#public_folder_link = \"69932bf8fbdd2b37a23e1e5ae1c3206b\"\n",
    "sddk.write_file(\"SDAM_data/temporal_uncertainty/distributions_overview.png\", fig, conf)"
   ]
  },
  {
   "cell_type": "code",
   "execution_count": 184,
   "metadata": {
    "colab": {},
    "colab_type": "code",
    "id": "MwMpPzf4F_cj"
   },
   "outputs": [],
   "source": [
    "# the figure has been uploaded into a public figure\n",
    "# and might be accessed via this link\n",
    "# (the number is id of the public folder)\n",
    "# \"https://sciencedata.dk/public/69932bf8fbdd2b37a23e1e5ae1c3206b/distributions_overview.png\""
   ]
  },
  {
   "cell_type": "markdown",
   "metadata": {
    "colab_type": "text",
    "id": "wvu0cBKtcMXK"
   },
   "source": [
    "# Test with some dataset"
   ]
  },
  {
   "cell_type": "markdown",
   "metadata": {
    "colab_type": "text",
    "id": "3fyJ5DLoRenO"
   },
   "source": [
    "Now let's define two crucial functions:\n",
    "The first produces a new column in our dataframe, which contain random numbers within a range of specified start and stop date columns, following the trapezoidal distribution.\n",
    "\n",
    "The second function then approach this column and extract values from it"
   ]
  },
  {
   "cell_type": "code",
   "execution_count": null,
   "metadata": {
    "colab": {},
    "colab_type": "code",
    "id": "LXyg4ZRMKttE"
   },
   "outputs": [],
   "source": []
  },
  {
   "cell_type": "markdown",
   "metadata": {
    "colab_type": "text",
    "id": "kQtdFZHwQYum"
   },
   "source": [
    "## a) Test with mounds"
   ]
  },
  {
   "cell_type": "code",
   "execution_count": null,
   "metadata": {
    "colab": {},
    "colab_type": "code",
    "id": "8QyO9tieQfD3"
   },
   "outputs": [],
   "source": [
    "AOR_df = sddk.read_file(\"SDAM_data/mounds/AOR_df.json\", \"df\", conf)\n",
    "Izvestia_df = sddk.read_file(\"SDAM_data/mounds/Izvestia_df.json\", \"df\", conf)"
   ]
  },
  {
   "cell_type": "code",
   "execution_count": null,
   "metadata": {
    "colab": {
     "base_uri": "https://localhost:8080/",
     "height": 666
    },
    "colab_type": "code",
    "id": "OeV7_jYYSGA6",
    "outputId": "b5558f6f-a34e-4563-8b22-a8c1d049f12e"
   },
   "outputs": [
    {
     "data": {
      "text/html": [
       "<div>\n",
       "<style scoped>\n",
       "    .dataframe tbody tr th:only-of-type {\n",
       "        vertical-align: middle;\n",
       "    }\n",
       "\n",
       "    .dataframe tbody tr th {\n",
       "        vertical-align: top;\n",
       "    }\n",
       "\n",
       "    .dataframe thead th {\n",
       "        text-align: right;\n",
       "    }\n",
       "</style>\n",
       "<table border=\"1\" class=\"dataframe\">\n",
       "  <thead>\n",
       "    <tr style=\"text-align: right;\">\n",
       "      <th></th>\n",
       "      <th>MoundID</th>\n",
       "      <th>Municipality</th>\n",
       "      <th>Region</th>\n",
       "      <th>Lat</th>\n",
       "      <th>Long</th>\n",
       "      <th>Error radius(m)</th>\n",
       "      <th>LU_Around</th>\n",
       "      <th>MoundCover</th>\n",
       "      <th>Geomorphology</th>\n",
       "      <th>Prominence</th>\n",
       "      <th>MoundName</th>\n",
       "      <th>HeightMax</th>\n",
       "      <th>HeightMin</th>\n",
       "      <th>DiameterMax</th>\n",
       "      <th>DiameterMin</th>\n",
       "      <th>GT</th>\n",
       "      <th>RT</th>\n",
       "      <th>Condition</th>\n",
       "      <th>Source of Impact</th>\n",
       "      <th>NumberOfBurialsInside</th>\n",
       "      <th>FirstStartDate</th>\n",
       "      <th>FirstEndDate</th>\n",
       "      <th>MaxEndDate</th>\n",
       "      <th>FirstChronologyRating</th>\n",
       "      <th>FirstEnclosureType</th>\n",
       "      <th>Graves</th>\n",
       "      <th>FirstBurialNumber</th>\n",
       "      <th>GraveRankSymbols</th>\n",
       "      <th>AllDates</th>\n",
       "      <th>TotalBurialNumber</th>\n",
       "      <th>BurialAttributesAggr</th>\n",
       "    </tr>\n",
       "  </thead>\n",
       "  <tbody>\n",
       "    <tr>\n",
       "      <th>0</th>\n",
       "      <td>1107</td>\n",
       "      <td>Sliven</td>\n",
       "      <td>Sliven</td>\n",
       "      <td>42.491623</td>\n",
       "      <td>26.269778</td>\n",
       "      <td>0</td>\n",
       "      <td>Annual agriculture</td>\n",
       "      <td>No data</td>\n",
       "      <td>hillside</td>\n",
       "      <td>somewhat prominent (on a plateau, slope or spu...</td>\n",
       "      <td>no name</td>\n",
       "      <td>5.6</td>\n",
       "      <td>1.6</td>\n",
       "      <td>36</td>\n",
       "      <td>34</td>\n",
       "      <td></td>\n",
       "      <td>Y</td>\n",
       "      <td>2 - partially damaged (type of damage is descr...</td>\n",
       "      <td>looting</td>\n",
       "      <td>10</td>\n",
       "      <td>0.0</td>\n",
       "      <td>100.0</td>\n",
       "      <td>400.0</td>\n",
       "      <td>2 - specialist consulted on a single item</td>\n",
       "      <td></td>\n",
       "      <td>10</td>\n",
       "      <td>1</td>\n",
       "      <td>[0, 1]</td>\n",
       "      <td>[[0.0, 100.0], [0.0, 100.0], [0.0, 100.0], [0....</td>\n",
       "      <td>10.0</td>\n",
       "      <td>{'0': {'index': 743, 'MoundID': 1107, 'Name': ...</td>\n",
       "    </tr>\n",
       "    <tr>\n",
       "      <th>1</th>\n",
       "      <td>1179</td>\n",
       "      <td>Belitsa</td>\n",
       "      <td>Blagoevgrad</td>\n",
       "      <td>41.935714</td>\n",
       "      <td>23.573565</td>\n",
       "      <td>0</td>\n",
       "      <td>Pasture (grassland)</td>\n",
       "      <td>Pasture (grassland)</td>\n",
       "      <td>on the ridge</td>\n",
       "      <td>very (on an outcrop or peak)</td>\n",
       "      <td>Mogilata sas sarkofaga</td>\n",
       "      <td>7</td>\n",
       "      <td></td>\n",
       "      <td>30</td>\n",
       "      <td></td>\n",
       "      <td></td>\n",
       "      <td>N</td>\n",
       "      <td>1 - pristine, (only superficial or minor damag...</td>\n",
       "      <td></td>\n",
       "      <td>1</td>\n",
       "      <td>-400.0</td>\n",
       "      <td>-300.0</td>\n",
       "      <td>-300.0</td>\n",
       "      <td>2 - specialist consulted on a single item</td>\n",
       "      <td>Cist grave</td>\n",
       "      <td>1</td>\n",
       "      <td>1</td>\n",
       "      <td>[2]</td>\n",
       "      <td>[[-400.0, -300.0]]</td>\n",
       "      <td>1.0</td>\n",
       "      <td>{'0': {'index': 1190, 'MoundID': 1179, 'Name':...</td>\n",
       "    </tr>\n",
       "    <tr>\n",
       "      <th>2</th>\n",
       "      <td>1392</td>\n",
       "      <td>Belitsa</td>\n",
       "      <td>Blagoevgrad</td>\n",
       "      <td>41.919751</td>\n",
       "      <td>23.572341</td>\n",
       "      <td>0</td>\n",
       "      <td>No data</td>\n",
       "      <td>No data</td>\n",
       "      <td>on the ridge</td>\n",
       "      <td>somewhat prominent (on a plateau, slope or spu...</td>\n",
       "      <td>Golyamata mogila</td>\n",
       "      <td>4</td>\n",
       "      <td></td>\n",
       "      <td>30</td>\n",
       "      <td>25</td>\n",
       "      <td></td>\n",
       "      <td>N</td>\n",
       "      <td>1 - pristine, (only superficial or minor damag...</td>\n",
       "      <td></td>\n",
       "      <td>1</td>\n",
       "      <td>NaN</td>\n",
       "      <td>NaN</td>\n",
       "      <td>NaN</td>\n",
       "      <td>0 - no chronology</td>\n",
       "      <td>Simple pit</td>\n",
       "      <td>1</td>\n",
       "      <td>1</td>\n",
       "      <td>[0]</td>\n",
       "      <td>[[None, None]]</td>\n",
       "      <td>1.0</td>\n",
       "      <td>{'0': {'index': 1992, 'MoundID': 1392, 'Name':...</td>\n",
       "    </tr>\n",
       "    <tr>\n",
       "      <th>3</th>\n",
       "      <td>1393</td>\n",
       "      <td>Blagoevgrad</td>\n",
       "      <td>Blagoevgrad</td>\n",
       "      <td>41.976922</td>\n",
       "      <td>23.093051</td>\n",
       "      <td>100</td>\n",
       "      <td>Scrub</td>\n",
       "      <td>No data</td>\n",
       "      <td>hilltop</td>\n",
       "      <td>very (on an outcrop or peak)</td>\n",
       "      <td>Kaymenska chuka</td>\n",
       "      <td></td>\n",
       "      <td></td>\n",
       "      <td></td>\n",
       "      <td></td>\n",
       "      <td></td>\n",
       "      <td>Y</td>\n",
       "      <td>2 - partially damaged (type of damage is descr...</td>\n",
       "      <td>looting</td>\n",
       "      <td>4</td>\n",
       "      <td>200.0</td>\n",
       "      <td>300.0</td>\n",
       "      <td>300.0</td>\n",
       "      <td>1 - rough estimate by author on basis of the a...</td>\n",
       "      <td>Tiled grave</td>\n",
       "      <td>4</td>\n",
       "      <td>1</td>\n",
       "      <td>[0]</td>\n",
       "      <td>[[200.0, 300.0], [200.0, 300.0], [200.0, 300.0...</td>\n",
       "      <td>4.0</td>\n",
       "      <td>{'0': {'index': 1993, 'MoundID': 1393, 'Name':...</td>\n",
       "    </tr>\n",
       "    <tr>\n",
       "      <th>4</th>\n",
       "      <td>1012</td>\n",
       "      <td>Primorsko</td>\n",
       "      <td>Burgas</td>\n",
       "      <td>42.277825</td>\n",
       "      <td>27.726949</td>\n",
       "      <td>200</td>\n",
       "      <td>Forest</td>\n",
       "      <td>Forest</td>\n",
       "      <td>valley bottom, or flat ground</td>\n",
       "      <td>not prominent (in a valley, plain or depression)</td>\n",
       "      <td>Chenger 1</td>\n",
       "      <td>3.25</td>\n",
       "      <td>2.98</td>\n",
       "      <td>28.6</td>\n",
       "      <td>26.8</td>\n",
       "      <td></td>\n",
       "      <td>N</td>\n",
       "      <td>1 - pristine, (only superficial or minor damag...</td>\n",
       "      <td></td>\n",
       "      <td>2</td>\n",
       "      <td>-400.0</td>\n",
       "      <td>-200.0</td>\n",
       "      <td>-200.0</td>\n",
       "      <td>1 - rough estimate by author on basis of the a...</td>\n",
       "      <td>Simple pit</td>\n",
       "      <td>2</td>\n",
       "      <td>1</td>\n",
       "      <td>[2, 1]</td>\n",
       "      <td>[[-400.0, -200.0], [None, None]]</td>\n",
       "      <td>2.0</td>\n",
       "      <td>{'0': {'index': 120, 'MoundID': 1012, 'Name': ...</td>\n",
       "    </tr>\n",
       "  </tbody>\n",
       "</table>\n",
       "</div>"
      ],
      "text/plain": [
       "   MoundID  ...                               BurialAttributesAggr\n",
       "0     1107  ...  {'0': {'index': 743, 'MoundID': 1107, 'Name': ...\n",
       "1     1179  ...  {'0': {'index': 1190, 'MoundID': 1179, 'Name':...\n",
       "2     1392  ...  {'0': {'index': 1992, 'MoundID': 1392, 'Name':...\n",
       "3     1393  ...  {'0': {'index': 1993, 'MoundID': 1393, 'Name':...\n",
       "4     1012  ...  {'0': {'index': 120, 'MoundID': 1012, 'Name': ...\n",
       "\n",
       "[5 rows x 31 columns]"
      ]
     },
     "execution_count": 23,
     "metadata": {
      "tags": []
     },
     "output_type": "execute_result"
    }
   ],
   "source": [
    "AOR_df.head(5)"
   ]
  },
  {
   "cell_type": "code",
   "execution_count": null,
   "metadata": {
    "colab": {
     "base_uri": "https://localhost:8080/",
     "height": 632
    },
    "colab_type": "code",
    "id": "qD6BNxDdfNrt",
    "outputId": "42834bd6-aa24-466d-c370-822aef8c7690"
   },
   "outputs": [
    {
     "data": {
      "text/html": [
       "<div>\n",
       "<style scoped>\n",
       "    .dataframe tbody tr th:only-of-type {\n",
       "        vertical-align: middle;\n",
       "    }\n",
       "\n",
       "    .dataframe tbody tr th {\n",
       "        vertical-align: top;\n",
       "    }\n",
       "\n",
       "    .dataframe thead th {\n",
       "        text-align: right;\n",
       "    }\n",
       "</style>\n",
       "<table border=\"1\" class=\"dataframe\">\n",
       "  <thead>\n",
       "    <tr style=\"text-align: right;\">\n",
       "      <th></th>\n",
       "      <th>MoundID</th>\n",
       "      <th>Municipality</th>\n",
       "      <th>Region</th>\n",
       "      <th>Lat</th>\n",
       "      <th>Long</th>\n",
       "      <th>Error radius(m)</th>\n",
       "      <th>LU_Around</th>\n",
       "      <th>MoundCover</th>\n",
       "      <th>Geomorphology</th>\n",
       "      <th>Prominence</th>\n",
       "      <th>MoundName</th>\n",
       "      <th>HeightMax</th>\n",
       "      <th>HeightMin</th>\n",
       "      <th>DiameterMax</th>\n",
       "      <th>DiameterMin</th>\n",
       "      <th>GT</th>\n",
       "      <th>RT</th>\n",
       "      <th>Condition</th>\n",
       "      <th>Source of Impact</th>\n",
       "      <th>NumberOfBurialsInside</th>\n",
       "      <th>FirstStartDate</th>\n",
       "      <th>FirstEndDate</th>\n",
       "      <th>MaxEndDate</th>\n",
       "      <th>FirstChronologyRating</th>\n",
       "      <th>FirstEnclosureType</th>\n",
       "      <th>Graves</th>\n",
       "      <th>FirstBurialNumber</th>\n",
       "      <th>GraveRankSymbols</th>\n",
       "      <th>AllDates</th>\n",
       "      <th>TotalBurialNumber</th>\n",
       "      <th>BurialAttributesAggr</th>\n",
       "    </tr>\n",
       "  </thead>\n",
       "  <tbody>\n",
       "    <tr>\n",
       "      <th>464</th>\n",
       "      <td>1003</td>\n",
       "      <td>Straldzha</td>\n",
       "      <td>Yambol</td>\n",
       "      <td>42.593881</td>\n",
       "      <td>26.750341</td>\n",
       "      <td>2500</td>\n",
       "      <td></td>\n",
       "      <td></td>\n",
       "      <td>valley bottom, or flat ground</td>\n",
       "      <td>not prominent (in a valley, plain or depression)</td>\n",
       "      <td>no name</td>\n",
       "      <td>4</td>\n",
       "      <td></td>\n",
       "      <td>50</td>\n",
       "      <td></td>\n",
       "      <td></td>\n",
       "      <td>N</td>\n",
       "      <td>2 - partially damaged (type of damage is descr...</td>\n",
       "      <td>communications (road on or next to mound)</td>\n",
       "      <td>2</td>\n",
       "      <td>-3500.0</td>\n",
       "      <td>-3000.0</td>\n",
       "      <td>-3000.0</td>\n",
       "      <td>3 - a number of burial aspects consulted and c...</td>\n",
       "      <td>Simple pit</td>\n",
       "      <td>2</td>\n",
       "      <td>1</td>\n",
       "      <td>[0, 1]</td>\n",
       "      <td>[[-3500.0, -3000.0], [-3500.0, -3000.0]]</td>\n",
       "      <td>2.0</td>\n",
       "      <td>{'0': {'index': 4, 'MoundID': 1003, 'Name': 'N...</td>\n",
       "    </tr>\n",
       "    <tr>\n",
       "      <th>465</th>\n",
       "      <td>1004</td>\n",
       "      <td>Elhovo</td>\n",
       "      <td>Yambol</td>\n",
       "      <td>42.101320</td>\n",
       "      <td>26.646779</td>\n",
       "      <td>0</td>\n",
       "      <td>Annual agriculture</td>\n",
       "      <td>Pasture (grassland)</td>\n",
       "      <td>valley bottom, or flat ground</td>\n",
       "      <td>not prominent (in a valley, plain or depression)</td>\n",
       "      <td>Kral Mezar</td>\n",
       "      <td>2</td>\n",
       "      <td></td>\n",
       "      <td>45</td>\n",
       "      <td></td>\n",
       "      <td></td>\n",
       "      <td>Y</td>\n",
       "      <td>3 - damaged (prior damage stimulated a rescue ...</td>\n",
       "      <td>Looting</td>\n",
       "      <td>3</td>\n",
       "      <td>150.0</td>\n",
       "      <td>200.0</td>\n",
       "      <td>250.0</td>\n",
       "      <td>3 - a number of burial aspects consulted and c...</td>\n",
       "      <td>sarcophagos</td>\n",
       "      <td>3</td>\n",
       "      <td>1</td>\n",
       "      <td>[1]</td>\n",
       "      <td>[[150.0, 200.0], [200.0, 225.0], [200.0, 250.0]]</td>\n",
       "      <td>3.0</td>\n",
       "      <td>{'0': {'index': 6, 'MoundID': 1004, 'Name': 'K...</td>\n",
       "    </tr>\n",
       "    <tr>\n",
       "      <th>466</th>\n",
       "      <td>1009</td>\n",
       "      <td>elhovo</td>\n",
       "      <td>Yambol</td>\n",
       "      <td>42.268269</td>\n",
       "      <td>26.684116</td>\n",
       "      <td>0</td>\n",
       "      <td>Forest</td>\n",
       "      <td>Forest</td>\n",
       "      <td>valley bottom, or flat ground</td>\n",
       "      <td>not prominent (in a valley, plain or depression)</td>\n",
       "      <td>Mound 2</td>\n",
       "      <td>1</td>\n",
       "      <td></td>\n",
       "      <td>12</td>\n",
       "      <td></td>\n",
       "      <td></td>\n",
       "      <td>Y</td>\n",
       "      <td>2 - partially damaged (type of damage is descr...</td>\n",
       "      <td>looting</td>\n",
       "      <td>2</td>\n",
       "      <td>100.0</td>\n",
       "      <td>300.0</td>\n",
       "      <td>300.0</td>\n",
       "      <td>1 - rough estimate by author on basis of the a...</td>\n",
       "      <td>Simple pit</td>\n",
       "      <td>2</td>\n",
       "      <td>1</td>\n",
       "      <td>[0]</td>\n",
       "      <td>[[100.0, 300.0], [100.0, 300.0]]</td>\n",
       "      <td>2.0</td>\n",
       "      <td>{'0': {'index': 106, 'MoundID': 1009, 'Name': ...</td>\n",
       "    </tr>\n",
       "    <tr>\n",
       "      <th>467</th>\n",
       "      <td>1025</td>\n",
       "      <td>Elhovo</td>\n",
       "      <td>Yambol</td>\n",
       "      <td>42.232066</td>\n",
       "      <td>26.639097</td>\n",
       "      <td>40</td>\n",
       "      <td>Annual agriculture</td>\n",
       "      <td>Scrub</td>\n",
       "      <td>on the ridge</td>\n",
       "      <td>somewhat prominent (on a plateau, slope or spu...</td>\n",
       "      <td>Mound 1</td>\n",
       "      <td>2.4</td>\n",
       "      <td></td>\n",
       "      <td>22</td>\n",
       "      <td></td>\n",
       "      <td></td>\n",
       "      <td>N</td>\n",
       "      <td>1 - pristine, (only superficial or minor damag...</td>\n",
       "      <td></td>\n",
       "      <td>3</td>\n",
       "      <td>100.0</td>\n",
       "      <td>200.0</td>\n",
       "      <td>200.0</td>\n",
       "      <td>1 - rough estimate by author on basis of the a...</td>\n",
       "      <td>Simple pit</td>\n",
       "      <td>3</td>\n",
       "      <td>1</td>\n",
       "      <td>[0, 1]</td>\n",
       "      <td>[[100.0, 200.0], [100.0, 150.0], [100.0, 150.0]]</td>\n",
       "      <td>3.0</td>\n",
       "      <td>{'0': {'index': 201, 'MoundID': 1025, 'Name': ...</td>\n",
       "    </tr>\n",
       "    <tr>\n",
       "      <th>468</th>\n",
       "      <td>1026</td>\n",
       "      <td>Elhovo</td>\n",
       "      <td>Yambol</td>\n",
       "      <td>42.231725</td>\n",
       "      <td>26.639353</td>\n",
       "      <td>40</td>\n",
       "      <td>Annual agriculture</td>\n",
       "      <td>Scrub</td>\n",
       "      <td>on the ridge</td>\n",
       "      <td>somewhat prominent (on a plateau, slope or spu...</td>\n",
       "      <td>Mound 2</td>\n",
       "      <td>5</td>\n",
       "      <td></td>\n",
       "      <td>28</td>\n",
       "      <td></td>\n",
       "      <td></td>\n",
       "      <td>Y</td>\n",
       "      <td>2 - partially damaged (type of damage is descr...</td>\n",
       "      <td>looting</td>\n",
       "      <td>10</td>\n",
       "      <td>50.0</td>\n",
       "      <td>150.0</td>\n",
       "      <td>150.0</td>\n",
       "      <td>1 - rough estimate by author on basis of the a...</td>\n",
       "      <td>Urn</td>\n",
       "      <td>10</td>\n",
       "      <td></td>\n",
       "      <td>[0]</td>\n",
       "      <td>[[50.0, 150.0], [50.0, 150.0], [50.0, 150.0], ...</td>\n",
       "      <td>NaN</td>\n",
       "      <td>{'0': {'index': 212, 'MoundID': 1026, 'Name': ...</td>\n",
       "    </tr>\n",
       "  </tbody>\n",
       "</table>\n",
       "</div>"
      ],
      "text/plain": [
       "     MoundID  ...                               BurialAttributesAggr\n",
       "464     1003  ...  {'0': {'index': 4, 'MoundID': 1003, 'Name': 'N...\n",
       "465     1004  ...  {'0': {'index': 6, 'MoundID': 1004, 'Name': 'K...\n",
       "466     1009  ...  {'0': {'index': 106, 'MoundID': 1009, 'Name': ...\n",
       "467     1025  ...  {'0': {'index': 201, 'MoundID': 1025, 'Name': ...\n",
       "468     1026  ...  {'0': {'index': 212, 'MoundID': 1026, 'Name': ...\n",
       "\n",
       "[5 rows x 31 columns]"
      ]
     },
     "execution_count": 26,
     "metadata": {
      "tags": []
     },
     "output_type": "execute_result"
    }
   ],
   "source": [
    "AOR_df[AOR_df[\"Region\"].str.startswith(\"Yamb\")].head(5)"
   ]
  },
  {
   "cell_type": "markdown",
   "metadata": {
    "colab_type": "text",
    "id": "5qEhUK1ZfAr0"
   },
   "source": [
    "Notice that the dataset has a 'FirstStartDate' and 'FirstEndDate' columns (These refer to the earliest time a mound was used, perhaps the first burial. Mounds are often reused over time)\n",
    ". On the basis of the interval defined by these dates, we generate a new column of 1000  random numbers selected from the interval defined by the start date and end date, following the trapezoid distribution defined at the very top of this script. For the purpose of this script, imperfect values such as 'beginning of 4th c' are ignored and excluded from consideration.\n"
   ]
  },
  {
   "cell_type": "code",
   "execution_count": null,
   "metadata": {
    "colab": {},
    "colab_type": "code",
    "id": "xMrNU0rQQfVO"
   },
   "outputs": [],
   "source": [
    "AOR_df[\"randoms\"] = AOR_df.apply(lambda row: model_date(row[\"FirstStartDate\"], row[\"FirstEndDate\"], size=1000), axis=1)\n",
    "Izvestia_df[\"randoms\"] = Izvestia_df.apply(lambda row: model_date(row[\"FirstStartDate\"], row[\"FirstEndDate\"], size=1000), axis=1)"
   ]
  },
  {
   "cell_type": "code",
   "execution_count": null,
   "metadata": {
    "colab": {
     "base_uri": "https://localhost:8080/",
     "height": 34
    },
    "colab_type": "code",
    "id": "BHSl8H1tSuGf",
    "outputId": "98fd4a5d-e080-400a-b147-c66b19106f0a"
   },
   "outputs": [
    {
     "data": {
      "text/plain": [
       "-3500.0"
      ]
     },
     "execution_count": 117,
     "metadata": {
      "tags": []
     },
     "output_type": "execute_result"
    }
   ],
   "source": [
    "AOR_df[\"FirstStartDate\"].min()"
   ]
  },
  {
   "cell_type": "code",
   "execution_count": null,
   "metadata": {
    "colab": {
     "base_uri": "https://localhost:8080/",
     "height": 34
    },
    "colab_type": "code",
    "id": "TVAzaJi6S0eQ",
    "outputId": "6bfd71fd-ceb5-4811-eaef-96a7084b8395"
   },
   "outputs": [
    {
     "data": {
      "text/plain": [
       "1850.0"
      ]
     },
     "execution_count": 118,
     "metadata": {
      "tags": []
     },
     "output_type": "execute_result"
    }
   ],
   "source": [
    "AOR_df[\"FirstEndDate\"].max()"
   ]
  },
  {
   "cell_type": "markdown",
   "metadata": {
    "colab_type": "text",
    "id": "-LdfxxAngRL2"
   },
   "source": [
    "Adela comments: the bit where get_number is used below is unclear to me. Are we grabbing each number from the randoms and placing it on the timeline by the century it falls into? The result being a histogram of how many times a century is represented within dataset, but this time based on 1000 * moundcount. We may be losing the SD that a true MC model (iterative generation of 1000 numbers over and over again) would generate, but maybe that can be tested later/"
   ]
  },
  {
   "cell_type": "code",
   "execution_count": null,
   "metadata": {
    "colab": {
     "base_uri": "https://localhost:8080/",
     "height": 265
    },
    "colab_type": "code",
    "id": "FEfWAmRySr32",
    "outputId": "b6249a34-4b7d-4804-bd90-5c6a01e937ef"
   },
   "outputs": [
    {
     "data": {
      "image/png": "[encoded data removed]",
      "text/plain": [
       "<Figure size 432x288 with 1 Axes>"
      ]
     },
     "metadata": {
      "needs_background": "light",
      "tags": []
     },
     "output_type": "display_data"
    }
   ],
   "source": [
    "step = 100\n",
    "bin_ranges=[n for n in range(-3500, 1500 + step, step)]\n",
    "for n in range(len(AOR_df.iloc[0][\"randoms\"])): # for each number in length of our random numbers\n",
    "  dates_variant = AOR_df.apply(lambda row: get_number(row, n), axis=1)\n",
    "  plt.hist(dates_variant, bins=bin_ranges, histtype='step', stacked=True, fill=False)\n",
    "  plt.xlim(-3500, 1500)"
   ]
  },
  {
   "cell_type": "code",
   "execution_count": null,
   "metadata": {
    "colab": {
     "base_uri": "https://localhost:8080/",
     "height": 265
    },
    "colab_type": "code",
    "id": "nCy8y51FUDzO",
    "outputId": "5fd2aa0d-cf6e-4f6b-ee39-802734b57425"
   },
   "outputs": [
    {
     "data": {
      "image/png": "[encoded data removed]",
      "text/plain": [
       "<Figure size 432x288 with 1 Axes>"
      ]
     },
     "metadata": {
      "needs_background": "light",
      "tags": []
     },
     "output_type": "display_data"
    }
   ],
   "source": [
    "step = 100\n",
    "bin_ranges=[n for n in range(-3500, 1500 + step, step)]\n",
    "for n in range(len(AOR_df.iloc[0][\"randoms\"])): # for each number in lenght of our random numbers\n",
    "  dates_variant = AOR_df.apply(lambda row: get_number(row, n), axis=1)\n",
    "  plt.hist(dates_variant, bins=bin_ranges, histtype='step', stacked=True, fill=False)\n",
    "  plt.xlim(-1500, 500)"
   ]
  },
  {
   "cell_type": "code",
   "execution_count": null,
   "metadata": {
    "colab": {
     "base_uri": "https://localhost:8080/",
     "height": 265
    },
    "colab_type": "code",
    "id": "uXMdBI5RY4pj",
    "outputId": "0a5084e5-eb44-4d5c-b6fb-1dff50c9e27e"
   },
   "outputs": [
    {
     "data": {
      "image/png": "[encoded data removed]",
      "text/plain": [
       "<Figure size 432x288 with 1 Axes>"
      ]
     },
     "metadata": {
      "needs_background": "light",
      "tags": []
     },
     "output_type": "display_data"
    }
   ],
   "source": [
    "bin_ranges=[n for n in range(-1500, 500 + step, step)]\n",
    "for n in range(len(AOR_df.iloc[0][\"randoms\"])): # for each number in length of our random numbers\n",
    "  dates_variant = AOR_df.apply(lambda row: get_number(row, n), axis=1)\n",
    "  sns.distplot(dates_variant, hist=False)\n",
    "  plt.xlim(-1500, 500)"
   ]
  },
  {
   "cell_type": "code",
   "execution_count": null,
   "metadata": {
    "colab": {
     "base_uri": "https://localhost:8080/",
     "height": 265
    },
    "colab_type": "code",
    "id": "O3vtW9jrTNsf",
    "outputId": "2c27ab1d-c0dc-4b0c-af2a-c701a3d47ab1"
   },
   "outputs": [
    {
     "data": {
      "image/png": "[encoded data removed]",
      "text/plain": [
       "<Figure size 432x288 with 1 Axes>"
      ]
     },
     "metadata": {
      "needs_background": "light",
      "tags": []
     },
     "output_type": "display_data"
    }
   ],
   "source": [
    "bin_ranges=[n for n in range(-1500, 500 + step, step)]\n",
    "for n in range(len(Izvestia_df.iloc[0][\"randoms\"])): # for each number in lenght of our random numbers\n",
    "  dates_variant = Izvestia_df.apply(lambda row: get_number(row, n), axis=1)\n",
    "  plt.hist(dates_variant, bins=bin_ranges, histtype='step', stacked=True, fill=False)\n",
    "  plt.xlim(-1500, 500)"
   ]
  },
  {
   "cell_type": "code",
   "execution_count": null,
   "metadata": {
    "colab": {
     "base_uri": "https://localhost:8080/",
     "height": 265
    },
    "colab_type": "code",
    "id": "ppikU2cxX6qO",
    "outputId": "b4f9df52-ccc8-4794-e76e-6b8016a625ca"
   },
   "outputs": [
    {
     "data": {
      "image/png": "[encoded data removed]",
      "text/plain": [
       "<Figure size 432x288 with 1 Axes>"
      ]
     },
     "metadata": {
      "needs_background": "light",
      "tags": []
     },
     "output_type": "display_data"
    }
   ],
   "source": [
    "bin_ranges=[n for n in range(-1500, 500 + step, step)]\n",
    "for n in range(len(Izvestia_df.iloc[0][\"randoms\"])): # for each number in lenght of our random numbers\n",
    "  dates_variant = Izvestia_df.apply(lambda row: get_number(row, n), axis=1)\n",
    "  sns.distplot(dates_variant, hist=False)\n",
    "  plt.xlim(-1500, 500)"
   ]
  },
  {
   "cell_type": "markdown",
   "metadata": {
    "colab_type": "text",
    "id": "0erKjXA1QTZx"
   },
   "source": [
    "## b) Test with PHI"
   ]
  },
  {
   "cell_type": "code",
   "execution_count": null,
   "metadata": {
    "colab": {},
    "colab_type": "code",
    "id": "xMz0c9YQdMiH"
   },
   "outputs": [],
   "source": [
    "# read the EDH dataset from sciencedata.dk\n",
    "PHI = sddk.read_file(\"SDAM_data/PHI/PHI_dated_2020-06-23.json\", \"df\", conf)"
   ]
  },
  {
   "cell_type": "code",
   "execution_count": null,
   "metadata": {
    "colab": {},
    "colab_type": "code",
    "id": "_IBIjjli5ONX"
   },
   "outputs": [],
   "source": []
  },
  {
   "cell_type": "code",
   "execution_count": null,
   "metadata": {
    "colab": {},
    "colab_type": "code",
    "id": "GwjnXsB15EHM"
   },
   "outputs": [],
   "source": [
    "cd resp.read()"
   ]
  },
  {
   "cell_type": "code",
   "execution_count": null,
   "metadata": {
    "colab": {},
    "colab_type": "code",
    "id": "nfEXC2vHhaVD"
   },
   "outputs": [],
   "source": [
    "# in case that the dataset cell values are encasulated within lists (what often happens when the dataset is transformed by R), uncomment the last two lines\n",
    "def lists_to_values(list_or_value):\n",
    "  if isinstance(list_or_value, list):\n",
    "    value = list_or_value[0]\n",
    "  else: \n",
    "    value = list_or_value\n",
    "  return value\n",
    "#for column in PHI.columns:\n",
    "#  PHI[column] = PHI.apply(lambda row: lists_to_values(row[column]), axis=1)"
   ]
  },
  {
   "cell_type": "code",
   "execution_count": null,
   "metadata": {
    "colab": {
     "base_uri": "https://localhost:8080/",
     "height": 479
    },
    "colab_type": "code",
    "id": "tNA21yB6hx1g",
    "outputId": "286c4b69-7ef2-446a-b96c-6565984c383b"
   },
   "outputs": [
    {
     "data": {
      "text/html": [
       "<div>\n",
       "<style scoped>\n",
       "    .dataframe tbody tr th:only-of-type {\n",
       "        vertical-align: middle;\n",
       "    }\n",
       "\n",
       "    .dataframe tbody tr th {\n",
       "        vertical-align: top;\n",
       "    }\n",
       "\n",
       "    .dataframe thead th {\n",
       "        text-align: right;\n",
       "    }\n",
       "</style>\n",
       "<table border=\"1\" class=\"dataframe\">\n",
       "  <thead>\n",
       "    <tr style=\"text-align: right;\">\n",
       "      <th></th>\n",
       "      <th>URL</th>\n",
       "      <th>Book</th>\n",
       "      <th>Text</th>\n",
       "      <th>hdr1</th>\n",
       "      <th>hdr2</th>\n",
       "      <th>tildeinfo</th>\n",
       "      <th>note</th>\n",
       "      <th>lines</th>\n",
       "      <th>metadata</th>\n",
       "      <th>data</th>\n",
       "      <th>filename</th>\n",
       "      <th>PHI_ID</th>\n",
       "      <th>hdr1_scrape</th>\n",
       "      <th>hdr2_scrape</th>\n",
       "      <th>raw_date</th>\n",
       "      <th>dating_dict</th>\n",
       "      <th>not_before</th>\n",
       "      <th>not_after</th>\n",
       "      <th>or</th>\n",
       "      <th>date_tags</th>\n",
       "      <th>certainty</th>\n",
       "      <th>link</th>\n",
       "    </tr>\n",
       "  </thead>\n",
       "  <tbody>\n",
       "    <tr>\n",
       "      <th>1</th>\n",
       "      <td>https://epigraphy.packhum.org/text/1</td>\n",
       "      <td>IG I³</td>\n",
       "      <td>1</td>\n",
       "      <td>None</td>\n",
       "      <td>None</td>\n",
       "      <td>Att. — Ath.: Akr. — stoich. 35 — c. 510-500 a....</td>\n",
       "      <td>None</td>\n",
       "      <td>12</td>\n",
       "      <td>\\n1\\n\\n\\n\\n\\n5\\n\\n\\n\\n\\n\\n10\\n\\n\\n</td>\n",
       "      <td>ἔδοχσεν το͂ι δέμοι· τ̣[ὸς ἐ Σ]αλαμ̣[ῖνι κλερόχ...</td>\n",
       "      <td>IG-I-3.csv</td>\n",
       "      <td>1</td>\n",
       "      <td>Regions\\nAttica (IG I-III)Attica</td>\n",
       "      <td>IG I³\\n1</td>\n",
       "      <td>c. 510-500 a.</td>\n",
       "      <td>{'or': None, 'not_before': -511, 'not_after': ...</td>\n",
       "      <td>-511.0</td>\n",
       "      <td>-499.0</td>\n",
       "      <td>None</td>\n",
       "      <td>[range, phase, ca]</td>\n",
       "      <td>None</td>\n",
       "      <td>None</td>\n",
       "    </tr>\n",
       "    <tr>\n",
       "      <th>2</th>\n",
       "      <td>https://epigraphy.packhum.org/text/2</td>\n",
       "      <td>IG I³</td>\n",
       "      <td>2</td>\n",
       "      <td>None</td>\n",
       "      <td>None</td>\n",
       "      <td>Att. — non-stoich. — c. 500 a.</td>\n",
       "      <td>None</td>\n",
       "      <td>14</td>\n",
       "      <td>\\n1\\n\\n\\n\\n\\n5\\n\\n\\n\\n\\n\\n10\\n\\n\\n\\n\\n</td>\n",
       "      <td>[․․8-9․․․]ν̣ βολ — — — — — — — — — —\\n[․6-7․․]...</td>\n",
       "      <td>IG-I-3.csv</td>\n",
       "      <td>2</td>\n",
       "      <td>Regions\\nAttica (IG I-III)Attica</td>\n",
       "      <td>IG I³\\n2</td>\n",
       "      <td>c. 500 a.</td>\n",
       "      <td>{'or': None, 'not_before': -505, 'not_after': ...</td>\n",
       "      <td>-505.0</td>\n",
       "      <td>-495.0</td>\n",
       "      <td>None</td>\n",
       "      <td>[exact, phase, ca]</td>\n",
       "      <td>None</td>\n",
       "      <td>None</td>\n",
       "    </tr>\n",
       "    <tr>\n",
       "      <th>3</th>\n",
       "      <td>https://epigraphy.packhum.org/text/3</td>\n",
       "      <td>IG I³</td>\n",
       "      <td>3</td>\n",
       "      <td>None</td>\n",
       "      <td>None</td>\n",
       "      <td>Att. — stoich. 21 — 490-480 a.</td>\n",
       "      <td>None</td>\n",
       "      <td>13</td>\n",
       "      <td>\\n1\\n\\n\\n\\n\\n5\\n\\n\\n\\n\\n\\n10\\n\\n\\n\\n</td>\n",
       "      <td>[․]αρ[․․․․]ι ℎερακλειο[․․5․․]\\n[․]αρ̣ο#⁷[․] τι...</td>\n",
       "      <td>IG-I-3.csv</td>\n",
       "      <td>3</td>\n",
       "      <td>Regions\\nAttica (IG I-III)Attica</td>\n",
       "      <td>IG I³\\n3</td>\n",
       "      <td>490-480 a.</td>\n",
       "      <td>{'or': None, 'not_before': -490, 'not_after': ...</td>\n",
       "      <td>-490.0</td>\n",
       "      <td>-480.0</td>\n",
       "      <td>None</td>\n",
       "      <td>[range]</td>\n",
       "      <td>None</td>\n",
       "      <td>None</td>\n",
       "    </tr>\n",
       "    <tr>\n",
       "      <th>4</th>\n",
       "      <td>https://epigraphy.packhum.org/text/4</td>\n",
       "      <td>IG I³</td>\n",
       "      <td>4</td>\n",
       "      <td>None</td>\n",
       "      <td>None</td>\n",
       "      <td>Att. — stoich. 38 — 485/4 a.</td>\n",
       "      <td>None</td>\n",
       "      <td>58</td>\n",
       "      <td>\\nface A.1\\n\\n\\n\\n\\n5\\n\\n\\n\\n\\n\\n10\\n\\n\\n\\n\\n\\...</td>\n",
       "      <td>[․․․․․․․․․․․․․․․․․․38․․․․․․․․․․․․․․․․․․]\\n[․․․...</td>\n",
       "      <td>IG-I-3.csv</td>\n",
       "      <td>4</td>\n",
       "      <td>Regions\\nAttica (IG I-III)Attica</td>\n",
       "      <td>IG I³\\n4</td>\n",
       "      <td>485/4 a.</td>\n",
       "      <td>{'or': None, 'not_before': -485, 'not_after': ...</td>\n",
       "      <td>-485.0</td>\n",
       "      <td>-484.0</td>\n",
       "      <td>None</td>\n",
       "      <td>[range]</td>\n",
       "      <td>None</td>\n",
       "      <td>None</td>\n",
       "    </tr>\n",
       "    <tr>\n",
       "      <th>5</th>\n",
       "      <td>https://epigraphy.packhum.org/text/5</td>\n",
       "      <td>IG I³</td>\n",
       "      <td>5</td>\n",
       "      <td>None</td>\n",
       "      <td>None</td>\n",
       "      <td>Att. — c. 500 a.\\n\\nSee also:\\nI.Eleusis 13</td>\n",
       "      <td>None</td>\n",
       "      <td>6</td>\n",
       "      <td>\\n1\\n\\n\\n\\n \\n5\\n\\n</td>\n",
       "      <td>[ἔδοχσε]ν [⋮ τε͂ι βολε͂ι] ⋮ καὶ [τ]ο͂ι δέμοι ⋮...</td>\n",
       "      <td>IG-I-3.csv</td>\n",
       "      <td>5</td>\n",
       "      <td>Regions\\nAttica (IG I-III)Attica</td>\n",
       "      <td>IG I³\\n5</td>\n",
       "      <td>c. 500 a.</td>\n",
       "      <td>{'or': None, 'not_before': -505, 'not_after': ...</td>\n",
       "      <td>-505.0</td>\n",
       "      <td>-495.0</td>\n",
       "      <td>None</td>\n",
       "      <td>[exact, phase, ca]</td>\n",
       "      <td>None</td>\n",
       "      <td>None</td>\n",
       "    </tr>\n",
       "  </tbody>\n",
       "</table>\n",
       "</div>"
      ],
      "text/plain": [
       "                                    URL   Book  ... certainty  link\n",
       "1  https://epigraphy.packhum.org/text/1  IG I³  ...      None  None\n",
       "2  https://epigraphy.packhum.org/text/2  IG I³  ...      None  None\n",
       "3  https://epigraphy.packhum.org/text/3  IG I³  ...      None  None\n",
       "4  https://epigraphy.packhum.org/text/4  IG I³  ...      None  None\n",
       "5  https://epigraphy.packhum.org/text/5  IG I³  ...      None  None\n",
       "\n",
       "[5 rows x 22 columns]"
      ]
     },
     "execution_count": 171,
     "metadata": {
      "tags": []
     },
     "output_type": "execute_result"
    }
   ],
   "source": [
    "PHI.head(5)"
   ]
  },
  {
   "cell_type": "code",
   "execution_count": null,
   "metadata": {
    "colab": {},
    "colab_type": "code",
    "id": "mBeEe3BDiRmH"
   },
   "outputs": [],
   "source": [
    "PHI[\"not_after\"] = pd.to_numeric(PHI[\"not_after\"])\n",
    "PHI[\"not_before\"] = pd.to_numeric(PHI[\"not_before\"])"
   ]
  },
  {
   "cell_type": "code",
   "execution_count": null,
   "metadata": {
    "colab": {
     "base_uri": "https://localhost:8080/",
     "height": 34
    },
    "colab_type": "code",
    "id": "vKEn19FL57rZ",
    "outputId": "08d3e049-eef8-4509-a9b5-42aa7bbb9c01"
   },
   "outputs": [
    {
     "data": {
      "text/plain": [
       "216702"
      ]
     },
     "execution_count": 173,
     "metadata": {
      "tags": []
     },
     "output_type": "execute_result"
    }
   ],
   "source": [
    "len(PHI)"
   ]
  },
  {
   "cell_type": "code",
   "execution_count": null,
   "metadata": {
    "colab": {
     "base_uri": "https://localhost:8080/",
     "height": 34
    },
    "colab_type": "code",
    "id": "5gfIgcEX7I6c",
    "outputId": "1574daa8-9072-4d38-b4fd-698e1c64a485"
   },
   "outputs": [
    {
     "data": {
      "text/plain": [
       "130946"
      ]
     },
     "execution_count": 174,
     "metadata": {
      "tags": []
     },
     "output_type": "execute_result"
    }
   ],
   "source": [
    "### how many of the inscriptions have at least one date\n",
    "PHI_dated = PHI[(PHI[\"not_before\"].notnull()) | (PHI[\"not_after\"].notnull())]\n",
    "len(PHI_dated)"
   ]
  },
  {
   "cell_type": "code",
   "execution_count": null,
   "metadata": {
    "colab": {
     "base_uri": "https://localhost:8080/",
     "height": 153
    },
    "colab_type": "code",
    "id": "iOzYoF3M9RGV",
    "outputId": "ee077bf0-40e8-40b6-99a6-f7c99b30aadd"
   },
   "outputs": [
    {
     "name": "stdout",
     "output_type": "stream",
     "text": [
      "CPU times: user 1min 23s, sys: 685 ms, total: 1min 23s\n",
      "Wall time: 1min 23s\n"
     ]
    },
    {
     "name": "stderr",
     "output_type": "stream",
     "text": [
      "/usr/local/lib/python3.6/dist-packages/ipykernel_launcher.py:1: SettingWithCopyWarning: \n",
      "A value is trying to be set on a copy of a slice from a DataFrame.\n",
      "Try using .loc[row_indexer,col_indexer] = value instead\n",
      "\n",
      "See the caveats in the documentation: https://pandas.pydata.org/pandas-docs/stable/user_guide/indexing.html#returning-a-view-versus-a-copy\n",
      "  \"\"\"Entry point for launching an IPython kernel.\n"
     ]
    }
   ],
   "source": [
    "%%time\n",
    "PHI_dated[\"randoms\"] = PHI_dated.apply(lambda row: model_date(row[\"not_before\"], row[\"not_after\"], size=100), axis=1)"
   ]
  },
  {
   "cell_type": "code",
   "execution_count": null,
   "metadata": {
    "colab": {
     "base_uri": "https://localhost:8080/",
     "height": 1000
    },
    "colab_type": "code",
    "id": "8Yu8ZUfJUh6S",
    "outputId": "56576497-64b6-42c4-de41-9d0d1080bd12"
   },
   "outputs": [
    {
     "data": {
      "text/html": [
       "<div>\n",
       "<style scoped>\n",
       "    .dataframe tbody tr th:only-of-type {\n",
       "        vertical-align: middle;\n",
       "    }\n",
       "\n",
       "    .dataframe tbody tr th {\n",
       "        vertical-align: top;\n",
       "    }\n",
       "\n",
       "    .dataframe thead th {\n",
       "        text-align: right;\n",
       "    }\n",
       "</style>\n",
       "<table border=\"1\" class=\"dataframe\">\n",
       "  <thead>\n",
       "    <tr style=\"text-align: right;\">\n",
       "      <th></th>\n",
       "      <th>URL</th>\n",
       "      <th>Book</th>\n",
       "      <th>Text</th>\n",
       "      <th>hdr1</th>\n",
       "      <th>hdr2</th>\n",
       "      <th>tildeinfo</th>\n",
       "      <th>note</th>\n",
       "      <th>lines</th>\n",
       "      <th>metadata</th>\n",
       "      <th>data</th>\n",
       "      <th>filename</th>\n",
       "      <th>PHI_ID</th>\n",
       "      <th>hdr1_scrape</th>\n",
       "      <th>hdr2_scrape</th>\n",
       "      <th>raw_date</th>\n",
       "      <th>dating_dict</th>\n",
       "      <th>not_before</th>\n",
       "      <th>not_after</th>\n",
       "      <th>or</th>\n",
       "      <th>date_tags</th>\n",
       "      <th>certainty</th>\n",
       "      <th>link</th>\n",
       "      <th>randoms</th>\n",
       "    </tr>\n",
       "  </thead>\n",
       "  <tbody>\n",
       "    <tr>\n",
       "      <th>5440</th>\n",
       "      <td>/text/5440?location=1365&amp;patt=&amp;bookid=5&amp;offset...</td>\n",
       "      <td>IG II²</td>\n",
       "      <td>3175</td>\n",
       "      <td>Regions\\nAttica (IG I-III)\\nAttica</td>\n",
       "      <td>IG II²\\n3175</td>\n",
       "      <td>Att. — 10/9-2/3</td>\n",
       "      <td>None</td>\n",
       "      <td>5</td>\n",
       "      <td>1\\n\\n\\n\\n5</td>\n",
       "      <td>ὁ δῆμος ἀπὸ τῶν δοθεισῶν δωρεῶν ὑπὸ Γαίου Ἰουλ...</td>\n",
       "      <td>IG-II-2.csv</td>\n",
       "      <td>5440</td>\n",
       "      <td>None</td>\n",
       "      <td>None</td>\n",
       "      <td>10/9-2/3</td>\n",
       "      <td>{'or': None, 'not_before': 10, 'not_after': 3,...</td>\n",
       "      <td>10.0</td>\n",
       "      <td>3.0</td>\n",
       "      <td>None</td>\n",
       "      <td>[range]</td>\n",
       "      <td>None</td>\n",
       "      <td>None</td>\n",
       "      <td>[12, 14, 13, 13, 16, 13, 15, 16, 12, 12, 15, 1...</td>\n",
       "    </tr>\n",
       "    <tr>\n",
       "      <th>5518</th>\n",
       "      <td>/text/5518?location=1365&amp;patt=&amp;bookid=5&amp;offset...</td>\n",
       "      <td>IG II²</td>\n",
       "      <td>3250</td>\n",
       "      <td>Regions\\nAttica (IG I-III)\\nAttica</td>\n",
       "      <td>IG II²\\n3250</td>\n",
       "      <td>Att. — 2 p.</td>\n",
       "      <td>None</td>\n",
       "      <td>2</td>\n",
       "      <td>1\\n</td>\n",
       "      <td>ὁ δῆμος\\nΓάιον Καίσαρα Σεβαστοῦ υἱὸν νέον Ἄρη.</td>\n",
       "      <td>IG-II-2.csv</td>\n",
       "      <td>5518</td>\n",
       "      <td>None</td>\n",
       "      <td>None</td>\n",
       "      <td>2 p.</td>\n",
       "      <td>{'or': None, 'not_before': 2, 'not_after': 2, ...</td>\n",
       "      <td>2.0</td>\n",
       "      <td>2.0</td>\n",
       "      <td>None</td>\n",
       "      <td>[exact]</td>\n",
       "      <td>None</td>\n",
       "      <td>None</td>\n",
       "      <td>[2, 2, 2, 2, 2, 2, 2, 2, 2, 2, 2, 2, 2, 2, 2, ...</td>\n",
       "    </tr>\n",
       "    <tr>\n",
       "      <th>5522</th>\n",
       "      <td>/text/5522?location=1365&amp;patt=&amp;bookid=5&amp;offset...</td>\n",
       "      <td>IG II²</td>\n",
       "      <td>3253</td>\n",
       "      <td>Regions\\nAttica (IG I-III)\\nAttica</td>\n",
       "      <td>IG II²\\n3253</td>\n",
       "      <td>Att. — 4 p.</td>\n",
       "      <td>None</td>\n",
       "      <td>2</td>\n",
       "      <td>1\\n</td>\n",
       "      <td>ὁ δῆμος\\nΣεβαστὸν   Καίσαρα.</td>\n",
       "      <td>IG-II-2.csv</td>\n",
       "      <td>5522</td>\n",
       "      <td>None</td>\n",
       "      <td>None</td>\n",
       "      <td>4 p.</td>\n",
       "      <td>{'or': None, 'not_before': 4, 'not_after': 4, ...</td>\n",
       "      <td>4.0</td>\n",
       "      <td>4.0</td>\n",
       "      <td>None</td>\n",
       "      <td>[exact]</td>\n",
       "      <td>None</td>\n",
       "      <td>None</td>\n",
       "      <td>[4, 4, 4, 4, 4, 4, 4, 4, 4, 4, 4, 4, 4, 4, 4, ...</td>\n",
       "    </tr>\n",
       "    <tr>\n",
       "      <th>5523</th>\n",
       "      <td>/text/5523?location=1365&amp;patt=&amp;bookid=5&amp;offset...</td>\n",
       "      <td>IG II²</td>\n",
       "      <td>3254</td>\n",
       "      <td>Regions\\nAttica (IG I-III)\\nAttica</td>\n",
       "      <td>IG II²\\n3254</td>\n",
       "      <td>Att. — 4 p.</td>\n",
       "      <td>None</td>\n",
       "      <td>2</td>\n",
       "      <td>1\\n</td>\n",
       "      <td>ὁ δῆμος\\nΤιβέριον Καίσαρα.</td>\n",
       "      <td>IG-II-2.csv</td>\n",
       "      <td>5523</td>\n",
       "      <td>None</td>\n",
       "      <td>None</td>\n",
       "      <td>4 p.</td>\n",
       "      <td>{'or': None, 'not_before': 4, 'not_after': 4, ...</td>\n",
       "      <td>4.0</td>\n",
       "      <td>4.0</td>\n",
       "      <td>None</td>\n",
       "      <td>[exact]</td>\n",
       "      <td>None</td>\n",
       "      <td>None</td>\n",
       "      <td>[4, 4, 4, 4, 4, 4, 4, 4, 4, 4, 4, 4, 4, 4, 4, ...</td>\n",
       "    </tr>\n",
       "    <tr>\n",
       "      <th>5524</th>\n",
       "      <td>/text/5524?location=1365&amp;patt=&amp;bookid=5&amp;offset...</td>\n",
       "      <td>IG II²</td>\n",
       "      <td>3255</td>\n",
       "      <td>Regions\\nAttica (IG I-III)\\nAttica</td>\n",
       "      <td>IG II²\\n3255</td>\n",
       "      <td>Att. — 4 p.</td>\n",
       "      <td>None</td>\n",
       "      <td>2</td>\n",
       "      <td>1\\n</td>\n",
       "      <td>ὁ δῆμος\\nΓερμανικὸν Καίσαρα.</td>\n",
       "      <td>IG-II-2.csv</td>\n",
       "      <td>5524</td>\n",
       "      <td>None</td>\n",
       "      <td>None</td>\n",
       "      <td>4 p.</td>\n",
       "      <td>{'or': None, 'not_before': 4, 'not_after': 4, ...</td>\n",
       "      <td>4.0</td>\n",
       "      <td>4.0</td>\n",
       "      <td>None</td>\n",
       "      <td>[exact]</td>\n",
       "      <td>None</td>\n",
       "      <td>None</td>\n",
       "      <td>[4, 4, 4, 4, 4, 4, 4, 4, 4, 4, 4, 4, 4, 4, 4, ...</td>\n",
       "    </tr>\n",
       "    <tr>\n",
       "      <th>...</th>\n",
       "      <td>...</td>\n",
       "      <td>...</td>\n",
       "      <td>...</td>\n",
       "      <td>...</td>\n",
       "      <td>...</td>\n",
       "      <td>...</td>\n",
       "      <td>...</td>\n",
       "      <td>...</td>\n",
       "      <td>...</td>\n",
       "      <td>...</td>\n",
       "      <td>...</td>\n",
       "      <td>...</td>\n",
       "      <td>...</td>\n",
       "      <td>...</td>\n",
       "      <td>...</td>\n",
       "      <td>...</td>\n",
       "      <td>...</td>\n",
       "      <td>...</td>\n",
       "      <td>...</td>\n",
       "      <td>...</td>\n",
       "      <td>...</td>\n",
       "      <td>...</td>\n",
       "      <td>...</td>\n",
       "    </tr>\n",
       "    <tr>\n",
       "      <th>350128</th>\n",
       "      <td>/text/350128?location=1403&amp;patt=&amp;bookid=879&amp;of...</td>\n",
       "      <td>IG XII,4</td>\n",
       "      <td>2:558</td>\n",
       "      <td>Regions\\nAegean Islands, incl. Crete (IG XI-[X...</td>\n",
       "      <td>IG XII,4\\n2:558</td>\n",
       "      <td>Kos Isl. — Kos — 9 AD — ClRh 9 (1938) 137-148 ...</td>\n",
       "      <td>Dedication in Nabataean and Greek to Aphrodite...</td>\n",
       "      <td>14</td>\n",
       "      <td>I.1\\n\\n\\n\\n5\\nII.6\\n\\n\\n\\nI, transl.1\\n\\n\\n\\n5</td>\n",
       "      <td>[bjrḥ ․․] šnt 18 lḥr[tt]\\n[mlk nbṭ]w | ῾bd ...</td>\n",
       "      <td>IG-XII-4.csv</td>\n",
       "      <td>350128</td>\n",
       "      <td>None</td>\n",
       "      <td>None</td>\n",
       "      <td>9 AD</td>\n",
       "      <td>{'or': None, 'not_before': 9, 'not_after': 9, ...</td>\n",
       "      <td>9.0</td>\n",
       "      <td>9.0</td>\n",
       "      <td>None</td>\n",
       "      <td>[exact]</td>\n",
       "      <td>None</td>\n",
       "      <td>None</td>\n",
       "      <td>[9, 9, 9, 9, 9, 9, 9, 9, 9, 9, 9, 9, 9, 9, 9, ...</td>\n",
       "    </tr>\n",
       "    <tr>\n",
       "      <th>350209</th>\n",
       "      <td>/text/350209?location=1403&amp;patt=&amp;bookid=879&amp;of...</td>\n",
       "      <td>IG XII,4</td>\n",
       "      <td>2:637</td>\n",
       "      <td>Regions\\nAegean Islands, incl. Crete (IG XI-[X...</td>\n",
       "      <td>IG XII,4\\n2:637</td>\n",
       "      <td>Kos Isl. — Halasarna (Kardamaina) — 1-4 AD — R...</td>\n",
       "      <td>Dedication of a shrine to C. Caesar.  Base of ...</td>\n",
       "      <td>5</td>\n",
       "      <td>1\\n\\n\\n\\n5</td>\n",
       "      <td>ὁ δᾶμος\\nὁ Ἁλασαρνιτᾶν\\nΓαΐωι Ἰουλίωι θεοῦ Σεβ...</td>\n",
       "      <td>IG-XII-4.csv</td>\n",
       "      <td>350209</td>\n",
       "      <td>None</td>\n",
       "      <td>None</td>\n",
       "      <td>1-4 AD</td>\n",
       "      <td>{'or': None, 'not_before': 1, 'not_after': 4, ...</td>\n",
       "      <td>1.0</td>\n",
       "      <td>4.0</td>\n",
       "      <td>None</td>\n",
       "      <td>[range]</td>\n",
       "      <td>None</td>\n",
       "      <td>None</td>\n",
       "      <td>[2, 3, 4, 2, 1, 3, 3, 2, 2, 3, 3, 3, 4, 3, 2, ...</td>\n",
       "    </tr>\n",
       "    <tr>\n",
       "      <th>350438</th>\n",
       "      <td>/text/350438?location=1403&amp;patt=&amp;bookid=879&amp;of...</td>\n",
       "      <td>IG XII,4</td>\n",
       "      <td>2:866</td>\n",
       "      <td>Regions\\nAegean Islands, incl. Crete (IG XI-[X...</td>\n",
       "      <td>IG XII,4\\n2:866</td>\n",
       "      <td>Kos Isl. — Kos — Asklepieion — 2nd c. BC (I), ...</td>\n",
       "      <td>None</td>\n",
       "      <td>9</td>\n",
       "      <td>I.1\\n\\nII.1\\n\\n\\n\\n\\nI.5\\n</td>\n",
       "      <td>〚[ὁ δᾶμος] ἐ̣τ̣[ί]μ̣[α]σ̣ε̣〛\\n\\nΑὖλον Δίδιον Π...</td>\n",
       "      <td>IG-XII-4.csv</td>\n",
       "      <td>350438</td>\n",
       "      <td>None</td>\n",
       "      <td>None</td>\n",
       "      <td>2nd c. BC (I), late 1st c. BC (II)</td>\n",
       "      <td>{'or': None, 'not_before': -2, 'not_after': -2...</td>\n",
       "      <td>-2.0</td>\n",
       "      <td>-2.0</td>\n",
       "      <td>None</td>\n",
       "      <td>[exact]</td>\n",
       "      <td>None</td>\n",
       "      <td>None</td>\n",
       "      <td>[-2, -2, -2, -2, -2, -2, -2, -2, -2, -2, -2, -...</td>\n",
       "    </tr>\n",
       "    <tr>\n",
       "      <th>350598</th>\n",
       "      <td>/text/350598?location=1403&amp;patt=&amp;bookid=879&amp;of...</td>\n",
       "      <td>IG XII,4</td>\n",
       "      <td>2:1024</td>\n",
       "      <td>Regions\\nAegean Islands, incl. Crete (IG XI-[X...</td>\n",
       "      <td>IG XII,4\\n2:1024</td>\n",
       "      <td>Kos Isl. — Kos — bef. 4 AD — M. Segre, Iscr. d...</td>\n",
       "      <td>Honorific inscription for C. Caesar.  Base of ...</td>\n",
       "      <td>4</td>\n",
       "      <td>1\\n\\n\\n</td>\n",
       "      <td>[ἁ βουλ]ὰ Γάϊον\\n[Καίσαρ]α Σεβαστοῦ\\n[Καίσαρ]ο...</td>\n",
       "      <td>IG-XII-4.csv</td>\n",
       "      <td>350598</td>\n",
       "      <td>None</td>\n",
       "      <td>None</td>\n",
       "      <td>bef. 4 AD</td>\n",
       "      <td>{'or': None, 'not_before': 4, 'not_after': 4, ...</td>\n",
       "      <td>4.0</td>\n",
       "      <td>4.0</td>\n",
       "      <td>None</td>\n",
       "      <td>[exact]</td>\n",
       "      <td>None</td>\n",
       "      <td>None</td>\n",
       "      <td>[4, 4, 4, 4, 4, 4, 4, 4, 4, 4, 4, 4, 4, 4, 4, ...</td>\n",
       "    </tr>\n",
       "    <tr>\n",
       "      <th>352151</th>\n",
       "      <td>/text/352151?location=1694&amp;patt=&amp;bookid=881&amp;of...</td>\n",
       "      <td>Milet VI,3</td>\n",
       "      <td>1360</td>\n",
       "      <td>Regions\\nAsia Minor\\nIonia</td>\n",
       "      <td>Milet VI,3\\n1360</td>\n",
       "      <td>Ionia — Miletos — Nalbantlar, nr. Myus — 5th (...</td>\n",
       "      <td>Fragment of a list of Milesian stephanephoroi....</td>\n",
       "      <td>19</td>\n",
       "      <td>col. I.12\\n\\n\\n\\ncol. II.1\\n\\n\\n\\n5\\n\\n\\n\\n\\n1...</td>\n",
       "      <td>[Ἀριστοκράτης Φερεκλέ]ος             {²⁸489/88...</td>\n",
       "      <td>Milet-VI-3.csv</td>\n",
       "      <td>352151</td>\n",
       "      <td>None</td>\n",
       "      <td>None</td>\n",
       "      <td>5th (?) and 4th c. BC</td>\n",
       "      <td>{'or': None, 'certainty': '?', 'not_before': -...</td>\n",
       "      <td>-5.0</td>\n",
       "      <td>-5.0</td>\n",
       "      <td>None</td>\n",
       "      <td>[exact]</td>\n",
       "      <td>?</td>\n",
       "      <td>None</td>\n",
       "      <td>[-5, -5, -5, -5, -5, -5, -5, -5, -5, -5, -5, -...</td>\n",
       "    </tr>\n",
       "  </tbody>\n",
       "</table>\n",
       "<p>687 rows × 23 columns</p>\n",
       "</div>"
      ],
      "text/plain": [
       "                                                      URL  ...                                            randoms\n",
       "5440    /text/5440?location=1365&patt=&bookid=5&offset...  ...  [12, 14, 13, 13, 16, 13, 15, 16, 12, 12, 15, 1...\n",
       "5518    /text/5518?location=1365&patt=&bookid=5&offset...  ...  [2, 2, 2, 2, 2, 2, 2, 2, 2, 2, 2, 2, 2, 2, 2, ...\n",
       "5522    /text/5522?location=1365&patt=&bookid=5&offset...  ...  [4, 4, 4, 4, 4, 4, 4, 4, 4, 4, 4, 4, 4, 4, 4, ...\n",
       "5523    /text/5523?location=1365&patt=&bookid=5&offset...  ...  [4, 4, 4, 4, 4, 4, 4, 4, 4, 4, 4, 4, 4, 4, 4, ...\n",
       "5524    /text/5524?location=1365&patt=&bookid=5&offset...  ...  [4, 4, 4, 4, 4, 4, 4, 4, 4, 4, 4, 4, 4, 4, 4, ...\n",
       "...                                                   ...  ...                                                ...\n",
       "350128  /text/350128?location=1403&patt=&bookid=879&of...  ...  [9, 9, 9, 9, 9, 9, 9, 9, 9, 9, 9, 9, 9, 9, 9, ...\n",
       "350209  /text/350209?location=1403&patt=&bookid=879&of...  ...  [2, 3, 4, 2, 1, 3, 3, 2, 2, 3, 3, 3, 4, 3, 2, ...\n",
       "350438  /text/350438?location=1403&patt=&bookid=879&of...  ...  [-2, -2, -2, -2, -2, -2, -2, -2, -2, -2, -2, -...\n",
       "350598  /text/350598?location=1403&patt=&bookid=879&of...  ...  [4, 4, 4, 4, 4, 4, 4, 4, 4, 4, 4, 4, 4, 4, 4, ...\n",
       "352151  /text/352151?location=1694&patt=&bookid=881&of...  ...  [-5, -5, -5, -5, -5, -5, -5, -5, -5, -5, -5, -...\n",
       "\n",
       "[687 rows x 23 columns]"
      ]
     },
     "execution_count": 176,
     "metadata": {
      "tags": []
     },
     "output_type": "execute_result"
    }
   ],
   "source": [
    "PHI_dated[(PHI_dated[\"not_before\"] > -10) & (PHI_dated[\"not_after\"] < 10)]"
   ]
  },
  {
   "cell_type": "code",
   "execution_count": null,
   "metadata": {
    "colab": {
     "base_uri": "https://localhost:8080/",
     "height": 267
    },
    "colab_type": "code",
    "id": "kK5ZVXvlLrnC",
    "outputId": "40b7375c-61da-41bc-e03d-922f9134868d"
   },
   "outputs": [
    {
     "data": {
      "image/png": "[encoded data removed]",
      "text/plain": [
       "<Figure size 432x288 with 1 Axes>"
      ]
     },
     "metadata": {
      "needs_background": "light",
      "tags": []
     },
     "output_type": "display_data"
    }
   ],
   "source": [
    "def get_number(row, n):\n",
    "  try:\n",
    "    return row[\"randoms\"][n]\n",
    "  except:\n",
    "    return None\n",
    "\n",
    "step = 25\n",
    "bin_ranges=[n for n in range(-800, 400 + step, step)]\n",
    "for n in range(len(PHI_dated.iloc[0][\"randoms\"])): # for each number in lenght of our random numbers\n",
    "  dates_variant = PHI_dated.apply(lambda row: get_number(row, n), axis=1)\n",
    "  plt.hist(dates_variant, bins=bin_ranges, histtype='step', stacked=True, fill=False)\n",
    "  plt.xlim(-800, 400)\n"
   ]
  },
  {
   "cell_type": "code",
   "execution_count": null,
   "metadata": {
    "colab": {
     "base_uri": "https://localhost:8080/",
     "height": 293
    },
    "colab_type": "code",
    "id": "ft56sYSlt-Xi",
    "outputId": "f63cbdea-2a52-4e5f-b5a6-8499993542c8"
   },
   "outputs": [
    {
     "data": {
      "text/plain": [
       "(-800.0, 400.0)"
      ]
     },
     "execution_count": 178,
     "metadata": {
      "tags": []
     },
     "output_type": "execute_result"
    },
    {
     "data": {
      "image/png": "[encoded data removed]",
      "text/plain": [
       "<Figure size 432x288 with 1 Axes>"
      ]
     },
     "metadata": {
      "needs_background": "light",
      "tags": []
     },
     "output_type": "display_data"
    }
   ],
   "source": [
    "for n in range(100):\n",
    "  dates_variant = PHI_dated.apply(lambda row: get_number(row, n), axis=1)\n",
    "  sns.distplot(dates_variant, hist=False)\n",
    "plt.xlim(-800, 400)"
   ]
  },
  {
   "cell_type": "code",
   "execution_count": null,
   "metadata": {
    "colab": {},
    "colab_type": "code",
    "id": "Fv-RKwJ55S60"
   },
   "outputs": [],
   "source": []
  },
  {
   "cell_type": "markdown",
   "metadata": {
    "colab_type": "text",
    "id": "ZqJdFm3T448M"
   },
   "source": [
    "## c) Test with EDH"
   ]
  },
  {
   "cell_type": "code",
   "execution_count": null,
   "metadata": {
    "colab": {},
    "colab_type": "code",
    "id": "qi7yYCwA448X"
   },
   "outputs": [],
   "source": [
    "# read the EDH dataset from sciencedata.dk\n",
    "EDH = sddk.read_file(\"SDAM_data/EDH/EDH_cleaned.json\", \"df\", conf)"
   ]
  },
  {
   "cell_type": "code",
   "execution_count": null,
   "metadata": {
    "colab": {},
    "colab_type": "code",
    "id": "ytVWvGfw448e"
   },
   "outputs": [],
   "source": [
    "def lists_to_values(list_or_value):\n",
    "  if isinstance(list_or_value, list):\n",
    "    value = list_or_value[0]\n",
    "  else: \n",
    "    value = list_or_value\n",
    "  return value\n",
    "for column in EDH.columns:\n",
    "  EDH[column] = EDH.apply(lambda row: lists_to_values(row[column]), axis=1)"
   ]
  },
  {
   "cell_type": "code",
   "execution_count": null,
   "metadata": {
    "colab": {
     "base_uri": "https://localhost:8080/",
     "height": 547
    },
    "colab_type": "code",
    "id": "BcpEVITs448h",
    "outputId": "cb93727d-e982-4774-9a1d-830d7069276f"
   },
   "outputs": [
    {
     "data": {
      "text/html": [
       "<div>\n",
       "<style scoped>\n",
       "    .dataframe tbody tr th:only-of-type {\n",
       "        vertical-align: middle;\n",
       "    }\n",
       "\n",
       "    .dataframe tbody tr th {\n",
       "        vertical-align: top;\n",
       "    }\n",
       "\n",
       "    .dataframe thead th {\n",
       "        text-align: right;\n",
       "    }\n",
       "</style>\n",
       "<table border=\"1\" class=\"dataframe\">\n",
       "  <thead>\n",
       "    <tr style=\"text-align: right;\">\n",
       "      <th></th>\n",
       "      <th>diplomatic_text</th>\n",
       "      <th>literature</th>\n",
       "      <th>trismegistos_uri</th>\n",
       "      <th>id</th>\n",
       "      <th>findspot_ancient</th>\n",
       "      <th>not_before</th>\n",
       "      <th>type_of_inscription</th>\n",
       "      <th>work_status</th>\n",
       "      <th>edh_geography_uri</th>\n",
       "      <th>not_after</th>\n",
       "      <th>country</th>\n",
       "      <th>province_label</th>\n",
       "      <th>transcription</th>\n",
       "      <th>material</th>\n",
       "      <th>height</th>\n",
       "      <th>width</th>\n",
       "      <th>findspot_modern</th>\n",
       "      <th>depth</th>\n",
       "      <th>commentary</th>\n",
       "      <th>uri</th>\n",
       "      <th>responsible_individual</th>\n",
       "      <th>last_update</th>\n",
       "      <th>language</th>\n",
       "      <th>modern_region</th>\n",
       "      <th>letter_size</th>\n",
       "      <th>type_of_monument</th>\n",
       "      <th>people</th>\n",
       "      <th>year_of_find</th>\n",
       "      <th>findspot</th>\n",
       "      <th>present_location</th>\n",
       "      <th>external_image_uris</th>\n",
       "      <th>religion</th>\n",
       "      <th>fotos</th>\n",
       "      <th>geography</th>\n",
       "      <th>military</th>\n",
       "      <th>social_economic_legal_history</th>\n",
       "      <th>coordinates</th>\n",
       "      <th>text_cleaned</th>\n",
       "      <th>origdate_text</th>\n",
       "      <th>objecttype</th>\n",
       "      <th>province_label_clean</th>\n",
       "      <th>province_label_certainty</th>\n",
       "      <th>type_of_inscription_clean</th>\n",
       "      <th>type_of_inscription_certainty</th>\n",
       "      <th>material_clean</th>\n",
       "      <th>height_cm</th>\n",
       "      <th>width_cm</th>\n",
       "      <th>depth_cm</th>\n",
       "      <th>type_of_monument_clean</th>\n",
       "      <th>type_of_monument_certainty</th>\n",
       "      <th>findspot_ancient_clean</th>\n",
       "      <th>findspot_ancient_certainty</th>\n",
       "      <th>clean_text_conservative</th>\n",
       "      <th>clean_text_interpretive_word</th>\n",
       "      <th>clean_text_interpretive_sentence</th>\n",
       "    </tr>\n",
       "  </thead>\n",
       "  <tbody>\n",
       "    <tr>\n",
       "      <th>0</th>\n",
       "      <td>D M / NONIAE P F OPTATAE / ET C IVLIO ARTEMONI...</td>\n",
       "      <td>AE 1983, 0192.; M. Annecchino, Puteoli 4/5, 19...</td>\n",
       "      <td>https://www.trismegistos.org/text/251193</td>\n",
       "      <td>HD000001</td>\n",
       "      <td>Cumae, bei</td>\n",
       "      <td>0071</td>\n",
       "      <td>epitaph</td>\n",
       "      <td>provisional</td>\n",
       "      <td>https://edh-www.adw.uni-heidelberg.de/edh/geog...</td>\n",
       "      <td>0130</td>\n",
       "      <td>Italy</td>\n",
       "      <td>Latium et Campania (Regio I)</td>\n",
       "      <td>D(is) M(anibus) / Noniae P(ubli) f(iliae) Opta...</td>\n",
       "      <td>Marmor, geädert / farbig</td>\n",
       "      <td>33 cm</td>\n",
       "      <td>34 cm</td>\n",
       "      <td>Cuma, bei</td>\n",
       "      <td>2.7 cm</td>\n",
       "      <td>(C): 2. Hälfte 1. - Anfang 2. Jh. - AE; Ende ...</td>\n",
       "      <td>https://edh-www.adw.uni-heidelberg.de/edh/insc...</td>\n",
       "      <td>Feraudi</td>\n",
       "      <td>2014-04-07</td>\n",
       "      <td>Latin</td>\n",
       "      <td>Campania</td>\n",
       "      <td>3.2-2 cm</td>\n",
       "      <td>tabula</td>\n",
       "      <td>{'cognomen': 'Optata', 'person_id': '1', 'gend...</td>\n",
       "      <td>{}</td>\n",
       "      <td>{}</td>\n",
       "      <td>{}</td>\n",
       "      <td>{}</td>\n",
       "      <td>{}</td>\n",
       "      <td>{}</td>\n",
       "      <td>{}</td>\n",
       "      <td>{}</td>\n",
       "      <td>{}</td>\n",
       "      <td>40.8471577,14.0550756</td>\n",
       "      <td>Dis Manibus Noniae Publi filiae Optatae et Cai...</td>\n",
       "      <td>71 AD – 130 AD</td>\n",
       "      <td>Tafel</td>\n",
       "      <td>Latium et Campania (Regio I)</td>\n",
       "      <td>Certain</td>\n",
       "      <td>epitaph</td>\n",
       "      <td>Certain</td>\n",
       "      <td>Marble</td>\n",
       "      <td>33.0</td>\n",
       "      <td>34.0</td>\n",
       "      <td>2.7</td>\n",
       "      <td>tabula</td>\n",
       "      <td>Certain</td>\n",
       "      <td>Cumae</td>\n",
       "      <td>Estimated</td>\n",
       "      <td>D M Noniae P f Optatae et C Iulio Artemoni par...</td>\n",
       "      <td>Dis Manibus Noniae Publi filiae Optatae et Cai...</td>\n",
       "      <td>Dis Manibus Noniae Publi filiae Optatae et Cai...</td>\n",
       "    </tr>\n",
       "    <tr>\n",
       "      <th>1</th>\n",
       "      <td>C SEXTIVS PARIS / QVI VIXIT / ANNIS LXX</td>\n",
       "      <td>AE 1983, 0080. (A); A. Ferrua, RAL 36, 1981, 1...</td>\n",
       "      <td>https://www.trismegistos.org/text/265631</td>\n",
       "      <td>HD000002</td>\n",
       "      <td>Roma</td>\n",
       "      <td>0051</td>\n",
       "      <td>epitaph</td>\n",
       "      <td>no image</td>\n",
       "      <td>https://edh-www.adw.uni-heidelberg.de/edh/geog...</td>\n",
       "      <td>0200</td>\n",
       "      <td>Italy</td>\n",
       "      <td>Roma</td>\n",
       "      <td>C(aius) Sextius Paris / qui vixit / annis LXX</td>\n",
       "      <td>marble: rocks - metamorphic rocks</td>\n",
       "      <td>28 cm</td>\n",
       "      <td>85 cm</td>\n",
       "      <td>Roma</td>\n",
       "      <td>{}</td>\n",
       "      <td>AE 1983: Breite: 35 cm.</td>\n",
       "      <td>https://edh-www.adw.uni-heidelberg.de/edh/insc...</td>\n",
       "      <td>Feraudi</td>\n",
       "      <td>2014-04-07</td>\n",
       "      <td>Latin</td>\n",
       "      <td>Lazio</td>\n",
       "      <td>4 cm</td>\n",
       "      <td>tabula</td>\n",
       "      <td>{'age: years': '70', 'cognomen': 'Paris', 'gen...</td>\n",
       "      <td>1937</td>\n",
       "      <td>Via Nomentana, S. Alessandro, Kirche</td>\n",
       "      <td>{}</td>\n",
       "      <td>{}</td>\n",
       "      <td>{}</td>\n",
       "      <td>{}</td>\n",
       "      <td>{}</td>\n",
       "      <td>{}</td>\n",
       "      <td>{}</td>\n",
       "      <td>41.895466,12.482324</td>\n",
       "      <td>Caius Sextius Paris qui vixit annis LXX       ...</td>\n",
       "      <td>51 AD – 200 AD</td>\n",
       "      <td>Tafel</td>\n",
       "      <td>Roma</td>\n",
       "      <td>Certain</td>\n",
       "      <td>epitaph</td>\n",
       "      <td>Certain</td>\n",
       "      <td>Marble</td>\n",
       "      <td>28.0</td>\n",
       "      <td>85.0</td>\n",
       "      <td>NaN</td>\n",
       "      <td>tabula</td>\n",
       "      <td>Certain</td>\n",
       "      <td>Roma</td>\n",
       "      <td>Certain</td>\n",
       "      <td>C Sextius Paris qui vixit annis LXX</td>\n",
       "      <td>Caius Sextius Paris qui vixit annis LXX</td>\n",
       "      <td>Caius Sextius Paris qui vixit annis LXX</td>\n",
       "    </tr>\n",
       "    <tr>\n",
       "      <th>2</th>\n",
       "      <td>[ ]VMMIO [ ] / [ ]ISENNA[ ] / [ ] XV[ ] / [ ] / [</td>\n",
       "      <td>AE 1983, 0518. (B); J. González, ZPE 52, 1983,...</td>\n",
       "      <td>https://www.trismegistos.org/text/220675</td>\n",
       "      <td>HD000003</td>\n",
       "      <td>{}</td>\n",
       "      <td>0131</td>\n",
       "      <td>honorific inscription</td>\n",
       "      <td>provisional</td>\n",
       "      <td>https://edh-www.adw.uni-heidelberg.de/edh/geog...</td>\n",
       "      <td>0170</td>\n",
       "      <td>Spain</td>\n",
       "      <td>Baetica</td>\n",
       "      <td>[P(ublio) M]ummio [P(ubli) f(ilio)] / [Gal(eri...</td>\n",
       "      <td>marble: rocks - metamorphic rocks</td>\n",
       "      <td>(37) cm</td>\n",
       "      <td>(34) cm</td>\n",
       "      <td>Tomares</td>\n",
       "      <td>(12) cm</td>\n",
       "      <td>(B): [S]isenna ist falscher Kasus; folgende E...</td>\n",
       "      <td>https://edh-www.adw.uni-heidelberg.de/edh/insc...</td>\n",
       "      <td>Feraudi</td>\n",
       "      <td>2006-08-31</td>\n",
       "      <td>Latin</td>\n",
       "      <td>Sevilla</td>\n",
       "      <td>4.5-3 cm</td>\n",
       "      <td>statue base</td>\n",
       "      <td>{'nomen': 'Mummius+', 'cognomen': 'Sisenna+ Ru...</td>\n",
       "      <td>before 1975</td>\n",
       "      <td>{}</td>\n",
       "      <td>Sevilla, Privatbesitz</td>\n",
       "      <td>{}</td>\n",
       "      <td>{}</td>\n",
       "      <td>{}</td>\n",
       "      <td>{}</td>\n",
       "      <td>{}</td>\n",
       "      <td>{}</td>\n",
       "      <td>37.37281,-6.04589</td>\n",
       "      <td>Publio Mummio Publi filio Galeria Sisennae Rut...</td>\n",
       "      <td>131 AD – 170 AD</td>\n",
       "      <td>Statuenbasis</td>\n",
       "      <td>Baetica</td>\n",
       "      <td>Certain</td>\n",
       "      <td>honorific inscription</td>\n",
       "      <td>Certain</td>\n",
       "      <td>Marble</td>\n",
       "      <td>37.0</td>\n",
       "      <td>34.0</td>\n",
       "      <td>12.0</td>\n",
       "      <td>statue base</td>\n",
       "      <td>Certain</td>\n",
       "      <td>NULL</td>\n",
       "      <td>NULL</td>\n",
       "      <td>ummio isenna Xv</td>\n",
       "      <td>Publio Mummio Publi filio Galeria Sisennae Rut...</td>\n",
       "      <td>Publio Mummio Publi filio Galeria Sisennae Rut...</td>\n",
       "    </tr>\n",
       "    <tr>\n",
       "      <th>3</th>\n",
       "      <td>[ ]AVS[ ]LLA / M PORCI NIGRI SER / DOMINAE VEN...</td>\n",
       "      <td>AE 1983, 0533. (B); A.U. Stylow, Gerión 1, 198...</td>\n",
       "      <td>https://www.trismegistos.org/text/222102</td>\n",
       "      <td>HD000004</td>\n",
       "      <td>Ipolcobulcula</td>\n",
       "      <td>0151</td>\n",
       "      <td>votive inscription</td>\n",
       "      <td>checked with photo</td>\n",
       "      <td>https://edh-www.adw.uni-heidelberg.de/edh/geog...</td>\n",
       "      <td>0200</td>\n",
       "      <td>Spain</td>\n",
       "      <td>Baetica</td>\n",
       "      <td>[---?]AV(?)S(?)[---]L(?)L(?)A / M(arci) Porci ...</td>\n",
       "      <td>limestone: rocks - clastic sediments</td>\n",
       "      <td>(39) cm</td>\n",
       "      <td>27 cm</td>\n",
       "      <td>Carcabuey</td>\n",
       "      <td>18 cm</td>\n",
       "      <td>Material: lokaler grauer Kalkstein. (B): Styl...</td>\n",
       "      <td>https://edh-www.adw.uni-heidelberg.de/edh/insc...</td>\n",
       "      <td>Gräf</td>\n",
       "      <td>2015-03-27</td>\n",
       "      <td>Latin</td>\n",
       "      <td>Córdoba</td>\n",
       "      <td>2.5 cm</td>\n",
       "      <td>altar</td>\n",
       "      <td>{'cognomen': '[---]', 'status': 'slaves', 'per...</td>\n",
       "      <td>before 1979</td>\n",
       "      <td>{}</td>\n",
       "      <td>Carcabuey, Grupo Escolar</td>\n",
       "      <td>http://cil-old.bbaw.de/test06/bilder/datenbank...</td>\n",
       "      <td>names of pagan deities</td>\n",
       "      <td>{}</td>\n",
       "      <td>{}</td>\n",
       "      <td>{}</td>\n",
       "      <td>{}</td>\n",
       "      <td>37.4442,-4.27471</td>\n",
       "      <td>AVSLLA Marci Porci Nigri serva dominae Veneri ...</td>\n",
       "      <td>151 AD – 200 AD</td>\n",
       "      <td>Altar</td>\n",
       "      <td>Baetica</td>\n",
       "      <td>Certain</td>\n",
       "      <td>votive inscription</td>\n",
       "      <td>Certain</td>\n",
       "      <td>Limestone</td>\n",
       "      <td>39.0</td>\n",
       "      <td>27.0</td>\n",
       "      <td>18.0</td>\n",
       "      <td>altar</td>\n",
       "      <td>Certain</td>\n",
       "      <td>Ipolcobulcula</td>\n",
       "      <td>Certain</td>\n",
       "      <td>AVSLLA M Porci Nigri ser dominae Veneri aram p...</td>\n",
       "      <td>AVS LLA Marci Porci Nigri serva dominae Veneri...</td>\n",
       "      <td>AVS LLA Marci Porci Nigri serva dominae Veneri...</td>\n",
       "    </tr>\n",
       "    <tr>\n",
       "      <th>4</th>\n",
       "      <td>[ ] L SVCCESSVS / [ ] L L IRENAEVS / [ ] C L T...</td>\n",
       "      <td>AE 1983, 0078. (B); A. Ferrua, RAL 36, 1981, 1...</td>\n",
       "      <td>https://www.trismegistos.org/text/265629</td>\n",
       "      <td>HD000005</td>\n",
       "      <td>Roma</td>\n",
       "      <td>0001</td>\n",
       "      <td>epitaph</td>\n",
       "      <td>no image</td>\n",
       "      <td>https://edh-www.adw.uni-heidelberg.de/edh/geog...</td>\n",
       "      <td>0200</td>\n",
       "      <td>Italy</td>\n",
       "      <td>Roma</td>\n",
       "      <td>[---] l(ibertus) Successus / [---] L(uci) l(ib...</td>\n",
       "      <td>{}</td>\n",
       "      <td>{}</td>\n",
       "      <td>{}</td>\n",
       "      <td>Roma</td>\n",
       "      <td>{}</td>\n",
       "      <td>(B): Z. 3: C(ai) l(ibertae) Tyches.</td>\n",
       "      <td>https://edh-www.adw.uni-heidelberg.de/edh/insc...</td>\n",
       "      <td>Feraudi</td>\n",
       "      <td>2010-01-04</td>\n",
       "      <td>Latin</td>\n",
       "      <td>Lazio</td>\n",
       "      <td>{}</td>\n",
       "      <td>stele</td>\n",
       "      <td>{'status': 'freedmen / freedwomen', 'name': '[...</td>\n",
       "      <td>{}</td>\n",
       "      <td>Via Cupa (ehem. Vigna Nardi)</td>\n",
       "      <td>{}</td>\n",
       "      <td>{}</td>\n",
       "      <td>{}</td>\n",
       "      <td>{}</td>\n",
       "      <td>{}</td>\n",
       "      <td>{}</td>\n",
       "      <td>{}</td>\n",
       "      <td>41.895466,12.482324</td>\n",
       "      <td>libertus Successus  Luci libertus Irenaeus  C...</td>\n",
       "      <td>1 AD – 200 AD</td>\n",
       "      <td>Stele</td>\n",
       "      <td>Roma</td>\n",
       "      <td>Certain</td>\n",
       "      <td>epitaph</td>\n",
       "      <td>Certain</td>\n",
       "      <td>NA</td>\n",
       "      <td>NaN</td>\n",
       "      <td>NaN</td>\n",
       "      <td>NaN</td>\n",
       "      <td>stele</td>\n",
       "      <td>Certain</td>\n",
       "      <td>Roma</td>\n",
       "      <td>Certain</td>\n",
       "      <td>l Successus L l Irenaeus C l Tyches unt renti f</td>\n",
       "      <td>libertus Successus Luci libertus Irenaeus Cai ...</td>\n",
       "      <td>libertus Successus Luci libertus Irenaeus Cai ...</td>\n",
       "    </tr>\n",
       "  </tbody>\n",
       "</table>\n",
       "</div>"
      ],
      "text/plain": [
       "                                     diplomatic_text  ...                   clean_text_interpretive_sentence\n",
       "0  D M / NONIAE P F OPTATAE / ET C IVLIO ARTEMONI...  ...  Dis Manibus Noniae Publi filiae Optatae et Cai...\n",
       "1            C SEXTIVS PARIS / QVI VIXIT / ANNIS LXX  ...            Caius Sextius Paris qui vixit annis LXX\n",
       "2  [ ]VMMIO [ ] / [ ]ISENNA[ ] / [ ] XV[ ] / [ ] / [  ...  Publio Mummio Publi filio Galeria Sisennae Rut...\n",
       "3  [ ]AVS[ ]LLA / M PORCI NIGRI SER / DOMINAE VEN...  ...  AVS LLA Marci Porci Nigri serva dominae Veneri...\n",
       "4  [ ] L SVCCESSVS / [ ] L L IRENAEVS / [ ] C L T...  ...  libertus Successus Luci libertus Irenaeus Cai ...\n",
       "\n",
       "[5 rows x 55 columns]"
      ]
     },
     "execution_count": 8,
     "metadata": {
      "tags": []
     },
     "output_type": "execute_result"
    }
   ],
   "source": [
    "EDH.head(5)"
   ]
  },
  {
   "cell_type": "code",
   "execution_count": null,
   "metadata": {
    "colab": {},
    "colab_type": "code",
    "id": "Ib1x-uFg448m"
   },
   "outputs": [],
   "source": [
    "EDH[\"not_after\"] = pd.to_numeric(EDH[\"not_after\"])\n",
    "EDH[\"not_before\"] = pd.to_numeric(EDH[\"not_before\"])"
   ]
  },
  {
   "cell_type": "code",
   "execution_count": null,
   "metadata": {
    "colab": {
     "base_uri": "https://localhost:8080/",
     "height": 34
    },
    "colab_type": "code",
    "id": "Uy26BZBz448o",
    "outputId": "c51079c2-fd88-4fc7-ac1a-75f14129bbbb"
   },
   "outputs": [
    {
     "data": {
      "text/plain": [
       "57782"
      ]
     },
     "execution_count": 38,
     "metadata": {
      "tags": []
     },
     "output_type": "execute_result"
    }
   ],
   "source": [
    "\n",
    "### how many of the inscriptions have at least one date\n",
    "EDH_dated = EDH[(EDH[\"not_before\"].notnull()) | (EDH[\"not_after\"].notnull())]\n",
    "len(EDH_dated)"
   ]
  },
  {
   "cell_type": "code",
   "execution_count": null,
   "metadata": {
    "colab": {
     "base_uri": "https://localhost:8080/",
     "height": 34
    },
    "colab_type": "code",
    "id": "74AbYqlu448r",
    "outputId": "f47f6c0c-e166-43ed-acd4-1926d49885e3"
   },
   "outputs": [
    {
     "data": {
      "text/plain": [
       "3457"
      ]
     },
     "execution_count": 45,
     "metadata": {
      "tags": []
     },
     "output_type": "execute_result"
    }
   ],
   "source": [
    "len(EDH_dated[EDH_dated[\"not_after\"].isnull()])"
   ]
  },
  {
   "cell_type": "code",
   "execution_count": null,
   "metadata": {
    "colab": {
     "base_uri": "https://localhost:8080/",
     "height": 119
    },
    "colab_type": "code",
    "id": "YVTVu1Ub448t",
    "outputId": "fc2e3933-664a-4da0-89e5-8f2b7cc42997"
   },
   "outputs": [
    {
     "name": "stderr",
     "output_type": "stream",
     "text": [
      "/usr/local/lib/python3.6/dist-packages/ipykernel_launcher.py:6: SettingWithCopyWarning: \n",
      "A value is trying to be set on a copy of a slice from a DataFrame.\n",
      "Try using .loc[row_indexer,col_indexer] = value instead\n",
      "\n",
      "See the caveats in the documentation: https://pandas.pydata.org/pandas-docs/stable/user_guide/indexing.html#returning-a-view-versus-a-copy\n",
      "  \n"
     ]
    }
   ],
   "source": [
    "EDH_dated[\"randoms\"] = EDH_dated.apply(lambda row: model_date(row[\"not_before\"], row[\"not_after\"]), axis=1)"
   ]
  },
  {
   "cell_type": "code",
   "execution_count": null,
   "metadata": {
    "colab": {
     "base_uri": "https://localhost:8080/",
     "height": 669
    },
    "colab_type": "code",
    "id": "xQpzxawp448w",
    "outputId": "6d7beb82-718b-4a74-e759-81ffa6cbe74d"
   },
   "outputs": [
    {
     "data": {
      "text/html": [
       "<div>\n",
       "<style scoped>\n",
       "    .dataframe tbody tr th:only-of-type {\n",
       "        vertical-align: middle;\n",
       "    }\n",
       "\n",
       "    .dataframe tbody tr th {\n",
       "        vertical-align: top;\n",
       "    }\n",
       "\n",
       "    .dataframe thead th {\n",
       "        text-align: right;\n",
       "    }\n",
       "</style>\n",
       "<table border=\"1\" class=\"dataframe\">\n",
       "  <thead>\n",
       "    <tr style=\"text-align: right;\">\n",
       "      <th></th>\n",
       "      <th>id</th>\n",
       "      <th>not_before</th>\n",
       "      <th>not_after</th>\n",
       "      <th>randoms</th>\n",
       "    </tr>\n",
       "  </thead>\n",
       "  <tbody>\n",
       "    <tr>\n",
       "      <th>0</th>\n",
       "      <td>HD000001</td>\n",
       "      <td>71.0</td>\n",
       "      <td>130.0</td>\n",
       "      <td>[118, 113, 126, 113, 99, 99, 90, 91, 89, 124, ...</td>\n",
       "    </tr>\n",
       "    <tr>\n",
       "      <th>1</th>\n",
       "      <td>HD000002</td>\n",
       "      <td>51.0</td>\n",
       "      <td>200.0</td>\n",
       "      <td>[105, 142, 84, 65, 90, 105, 102, 165, 95, 148,...</td>\n",
       "    </tr>\n",
       "    <tr>\n",
       "      <th>2</th>\n",
       "      <td>HD000003</td>\n",
       "      <td>131.0</td>\n",
       "      <td>170.0</td>\n",
       "      <td>[157, 136, 135, 132, 151, 160, 145, 133, 146, ...</td>\n",
       "    </tr>\n",
       "    <tr>\n",
       "      <th>3</th>\n",
       "      <td>HD000004</td>\n",
       "      <td>151.0</td>\n",
       "      <td>200.0</td>\n",
       "      <td>[175, 172, 161, 164, 154, 181, 177, 165, 178, ...</td>\n",
       "    </tr>\n",
       "    <tr>\n",
       "      <th>4</th>\n",
       "      <td>HD000005</td>\n",
       "      <td>1.0</td>\n",
       "      <td>200.0</td>\n",
       "      <td>[155, 103, 182, 110, 20, 145, 180, 85, 118, 14...</td>\n",
       "    </tr>\n",
       "    <tr>\n",
       "      <th>5</th>\n",
       "      <td>HD000006</td>\n",
       "      <td>71.0</td>\n",
       "      <td>150.0</td>\n",
       "      <td>[134, 130, 142, 122, 107, 146, 80, 128, 99, 10...</td>\n",
       "    </tr>\n",
       "    <tr>\n",
       "      <th>6</th>\n",
       "      <td>HD000007</td>\n",
       "      <td>-100.0</td>\n",
       "      <td>-51.0</td>\n",
       "      <td>[-58, -91, -76, -59, -65, -61, -80, -66, -69, ...</td>\n",
       "    </tr>\n",
       "    <tr>\n",
       "      <th>7</th>\n",
       "      <td>HD000008</td>\n",
       "      <td>101.0</td>\n",
       "      <td>200.0</td>\n",
       "      <td>[154, 123, 117, 114, 162, 144, 165, 109, 161, ...</td>\n",
       "    </tr>\n",
       "    <tr>\n",
       "      <th>8</th>\n",
       "      <td>HD000009</td>\n",
       "      <td>201.0</td>\n",
       "      <td>300.0</td>\n",
       "      <td>[212, 244, 263, 288, 271, 211, 284, 276, 245, ...</td>\n",
       "    </tr>\n",
       "    <tr>\n",
       "      <th>9</th>\n",
       "      <td>HD000010</td>\n",
       "      <td>101.0</td>\n",
       "      <td>200.0</td>\n",
       "      <td>[180, 133, 156, 146, 197, 151, 126, 131, 170, ...</td>\n",
       "    </tr>\n",
       "    <tr>\n",
       "      <th>10</th>\n",
       "      <td>HD000011</td>\n",
       "      <td>54.0</td>\n",
       "      <td>68.0</td>\n",
       "      <td>[67, 66, 63, 66, 57, 66, 55, 64, 65, 63, 62, 6...</td>\n",
       "    </tr>\n",
       "    <tr>\n",
       "      <th>11</th>\n",
       "      <td>HD000012</td>\n",
       "      <td>301.0</td>\n",
       "      <td>400.0</td>\n",
       "      <td>[319, 351, 320, 378, 395, 364, 370, 312, 325, ...</td>\n",
       "    </tr>\n",
       "    <tr>\n",
       "      <th>12</th>\n",
       "      <td>HD000013</td>\n",
       "      <td>201.0</td>\n",
       "      <td>300.0</td>\n",
       "      <td>[241, 264, 237, 220, 266, 221, 293, 217, 229, ...</td>\n",
       "    </tr>\n",
       "    <tr>\n",
       "      <th>13</th>\n",
       "      <td>HD000014</td>\n",
       "      <td>68.0</td>\n",
       "      <td>96.0</td>\n",
       "      <td>[89, 73, 81, 76, 76, 95, 75, 76, 82, 69, 69, 7...</td>\n",
       "    </tr>\n",
       "    <tr>\n",
       "      <th>14</th>\n",
       "      <td>HD000015</td>\n",
       "      <td>1.0</td>\n",
       "      <td>300.0</td>\n",
       "      <td>[272, 268, 64, 258, 141, 70, 22, 33, 247, 145,...</td>\n",
       "    </tr>\n",
       "    <tr>\n",
       "      <th>15</th>\n",
       "      <td>HD000016</td>\n",
       "      <td>101.0</td>\n",
       "      <td>150.0</td>\n",
       "      <td>[116, 137, 117, 120, 124, 135, 130, 109, 126, ...</td>\n",
       "    </tr>\n",
       "    <tr>\n",
       "      <th>16</th>\n",
       "      <td>HD000017</td>\n",
       "      <td>-70.0</td>\n",
       "      <td>-1.0</td>\n",
       "      <td>[-27, -6, -53, -31, -19, -29, -9, -35, -12, -4...</td>\n",
       "    </tr>\n",
       "    <tr>\n",
       "      <th>17</th>\n",
       "      <td>HD000018</td>\n",
       "      <td>1.0</td>\n",
       "      <td>300.0</td>\n",
       "      <td>[110, 154, 189, 286, 114, 172, 48, 222, 100, 2...</td>\n",
       "    </tr>\n",
       "    <tr>\n",
       "      <th>18</th>\n",
       "      <td>HD000019</td>\n",
       "      <td>101.0</td>\n",
       "      <td>200.0</td>\n",
       "      <td>[175, 175, 156, 151, 170, 142, 137, 148, 147, ...</td>\n",
       "    </tr>\n",
       "    <tr>\n",
       "      <th>19</th>\n",
       "      <td>HD000020</td>\n",
       "      <td>-70.0</td>\n",
       "      <td>-1.0</td>\n",
       "      <td>[-20, -64, -41, -28, -39, -21, -37, -21, -29, ...</td>\n",
       "    </tr>\n",
       "  </tbody>\n",
       "</table>\n",
       "</div>"
      ],
      "text/plain": [
       "          id  ...                                            randoms\n",
       "0   HD000001  ...  [118, 113, 126, 113, 99, 99, 90, 91, 89, 124, ...\n",
       "1   HD000002  ...  [105, 142, 84, 65, 90, 105, 102, 165, 95, 148,...\n",
       "2   HD000003  ...  [157, 136, 135, 132, 151, 160, 145, 133, 146, ...\n",
       "3   HD000004  ...  [175, 172, 161, 164, 154, 181, 177, 165, 178, ...\n",
       "4   HD000005  ...  [155, 103, 182, 110, 20, 145, 180, 85, 118, 14...\n",
       "5   HD000006  ...  [134, 130, 142, 122, 107, 146, 80, 128, 99, 10...\n",
       "6   HD000007  ...  [-58, -91, -76, -59, -65, -61, -80, -66, -69, ...\n",
       "7   HD000008  ...  [154, 123, 117, 114, 162, 144, 165, 109, 161, ...\n",
       "8   HD000009  ...  [212, 244, 263, 288, 271, 211, 284, 276, 245, ...\n",
       "9   HD000010  ...  [180, 133, 156, 146, 197, 151, 126, 131, 170, ...\n",
       "10  HD000011  ...  [67, 66, 63, 66, 57, 66, 55, 64, 65, 63, 62, 6...\n",
       "11  HD000012  ...  [319, 351, 320, 378, 395, 364, 370, 312, 325, ...\n",
       "12  HD000013  ...  [241, 264, 237, 220, 266, 221, 293, 217, 229, ...\n",
       "13  HD000014  ...  [89, 73, 81, 76, 76, 95, 75, 76, 82, 69, 69, 7...\n",
       "14  HD000015  ...  [272, 268, 64, 258, 141, 70, 22, 33, 247, 145,...\n",
       "15  HD000016  ...  [116, 137, 117, 120, 124, 135, 130, 109, 126, ...\n",
       "16  HD000017  ...  [-27, -6, -53, -31, -19, -29, -9, -35, -12, -4...\n",
       "17  HD000018  ...  [110, 154, 189, 286, 114, 172, 48, 222, 100, 2...\n",
       "18  HD000019  ...  [175, 175, 156, 151, 170, 142, 137, 148, 147, ...\n",
       "19  HD000020  ...  [-20, -64, -41, -28, -39, -21, -37, -21, -29, ...\n",
       "\n",
       "[20 rows x 4 columns]"
      ]
     },
     "execution_count": 98,
     "metadata": {
      "tags": []
     },
     "output_type": "execute_result"
    }
   ],
   "source": [
    "EDH_condensed = EDH_dated[[\"id\", \"not_before\", \"not_after\", \"randoms\"]]\n",
    "EDH_condensed.head(20)"
   ]
  },
  {
   "cell_type": "code",
   "execution_count": null,
   "metadata": {
    "colab": {
     "base_uri": "https://localhost:8080/",
     "height": 265
    },
    "colab_type": "code",
    "id": "jCEfdaTP448y",
    "outputId": "2704adfd-1090-489d-f86f-69f6048362e4"
   },
   "outputs": [
    {
     "data": {
      "image/png": "[encoded data removed]",
      "text/plain": [
       "<Figure size 432x288 with 1 Axes>"
      ]
     },
     "metadata": {
      "needs_background": "light",
      "tags": []
     },
     "output_type": "display_data"
    }
   ],
   "source": [
    "def get_number(row, n):\n",
    "  try:\n",
    "    return row[\"randoms\"][n]\n",
    "  except:\n",
    "    return None\n",
    "\n",
    "step = 25\n",
    "bin_ranges=[n for n in range(-100, 400 + step, step)]\n",
    "for n in range(len(EDH_dated.iloc[0][\"randoms\"])): # for each number in lenght of our random numbers\n",
    "  dates_variant = EDH_dated.apply(lambda row: get_number(row, n), axis=1)\n",
    "  plt.hist(dates_variant, bins=bin_ranges, histtype='step', stacked=True, fill=False)\n",
    "  plt.xlim(-100, 400)\n"
   ]
  },
  {
   "cell_type": "code",
   "execution_count": null,
   "metadata": {
    "colab": {
     "base_uri": "https://localhost:8080/",
     "height": 282
    },
    "colab_type": "code",
    "id": "UdgFfFTS4481",
    "outputId": "809ba009-ab4d-4246-8484-60ebd1c23205"
   },
   "outputs": [
    {
     "data": {
      "text/plain": [
       "(-100.0, 400.0)"
      ]
     },
     "execution_count": 99,
     "metadata": {
      "tags": []
     },
     "output_type": "execute_result"
    },
    {
     "data": {
      "image/png": "[encoded data removed]",
      "text/plain": [
       "<Figure size 432x288 with 1 Axes>"
      ]
     },
     "metadata": {
      "needs_background": "light",
      "tags": []
     },
     "output_type": "display_data"
    }
   ],
   "source": [
    "for n in range(100):\n",
    "  dates_variant = EDH_condensed.apply(lambda row: get_number(row, n), axis=1)\n",
    "  sns.distplot(dates_variant, hist=False)\n",
    "plt.xlim(-100, 400)"
   ]
  },
  {
   "cell_type": "code",
   "execution_count": null,
   "metadata": {
    "colab": {},
    "colab_type": "code",
    "id": "5K26LNGI4484"
   },
   "outputs": [],
   "source": []
  },
  {
   "cell_type": "code",
   "execution_count": null,
   "metadata": {
    "colab": {},
    "colab_type": "code",
    "id": "ZWSK5hAX4486"
   },
   "outputs": [],
   "source": []
  },
  {
   "cell_type": "code",
   "execution_count": null,
   "metadata": {
    "colab": {},
    "colab_type": "code",
    "id": "IlD8-Nzt5dp8"
   },
   "outputs": [],
   "source": []
  }
 ],
 "metadata": {
  "colab": {
   "collapsed_sections": [],
   "include_colab_link": true,
   "name": "TEMPORAL-DISTRIBUTIONS_minimal-examples.ipynb",
   "provenance": []
  },
  "kernelspec": {
   "display_name": "Python 3",
   "language": "python",
   "name": "python3"
  },
  "language_info": {
   "codemirror_mode": {
    "name": "ipython",
    "version": 3
   },
   "file_extension": ".py",
   "mimetype": "text/x-python",
   "name": "python",
   "nbconvert_exporter": "python",
   "pygments_lexer": "ipython3",
   "version": "3.6.9"
  }
 },
 "nbformat": 4,
 "nbformat_minor": 1
}
